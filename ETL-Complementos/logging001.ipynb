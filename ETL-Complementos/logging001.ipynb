{
 "cells": [
  {
   "cell_type": "code",
   "execution_count": 1,
   "id": "b82df9be-10a5-4bc5-bcc5-ae8b2f0fb939",
   "metadata": {},
   "outputs": [
    {
     "name": "stdout",
     "output_type": "stream",
     "text": [
      "Collecting loggingNote: you may need to restart the kernel to use updated packages.\n",
      "\n",
      "  Downloading logging-0.4.9.6.tar.gz (96 kB)\n",
      "  Installing build dependencies: started\n",
      "  Installing build dependencies: finished with status 'done'\n",
      "  Getting requirements to build wheel: started\n",
      "  Getting requirements to build wheel: finished with status 'done'\n",
      "  Preparing metadata (pyproject.toml): started\n",
      "  Preparing metadata (pyproject.toml): finished with status 'done'\n",
      "Building wheels for collected packages: logging\n",
      "  Building wheel for logging (pyproject.toml): started\n",
      "  Building wheel for logging (pyproject.toml): finished with status 'done'\n",
      "  Created wheel for logging: filename=logging-0.4.9.6-py3-none-any.whl size=29527 sha256=1d0473e41cd543a549cc0fe1f4bfbe32abce853445897926281d35339137e1ec\n",
      "  Stored in directory: c:\\users\\gabriel.guzman\\appdata\\local\\pip\\cache\\wheels\\c2\\46\\de\\9ff6b7043ccdbac300a6f5b61d6220c8f2e9984f7abbf53d96\n",
      "Successfully built logging\n",
      "Installing collected packages: logging\n",
      "Successfully installed logging-0.4.9.6\n"
     ]
    }
   ],
   "source": [
    "pip install logging"
   ]
  },
  {
   "cell_type": "code",
   "execution_count": 3,
   "id": "6ed44797",
   "metadata": {},
   "outputs": [],
   "source": [
    "import logging\n",
    "import os\n",
    "\n",
    "# Configuración básica de logging\n",
    "logging.basicConfig(\n",
    "    level=logging.DEBUG,\n",
    "    format='%(asctime)s - %(levelname)s - %(message)s',\n",
    "    filename='app.log',  # Guardar logs en un archivo llamado app.log\n",
    "    filemode='w'  # Sobreescribe el archivo en cada ejecución\n",
    ")\n",
    "\n",
    "def leer_archivo(ruta):\n",
    "    \"\"\"Lee el contenido de un archivo.\"\"\"\n",
    "    try:\n",
    "        logging.info(\"Intentando leer el archivo %s\", ruta)\n",
    "        with open(ruta, 'r') as file:\n",
    "            contenido = file.read()\n",
    "            logging.debug(\"Contenido leído: %s\", contenido)\n",
    "            return contenido\n",
    "    except FileNotFoundError:\n",
    "        logging.error(\"El archivo %s no existe\", ruta)\n",
    "    except Exception as e:\n",
    "        logging.critical(\"Error inesperado al leer el archivo: %s\", e)\n",
    "\n",
    "def escribir_archivo(ruta, contenido):\n",
    "    \"\"\"Escribe contenido en un archivo.\"\"\"\n",
    "    try:\n",
    "        logging.info(\"Intentando escribir en el archivo %s\", ruta)\n",
    "        with open(ruta, 'w') as file:\n",
    "            file.write(contenido)\n",
    "            logging.debug(\"Contenido escrito: %s\", contenido)\n",
    "    except Exception as e:\n",
    "        logging.critical(\"Error inesperado al escribir en el archivo: %s\", e)\n",
    "\n",
    "def main():\n",
    "    archivo = 'datos.txt'\n",
    "\n",
    "    # Nombre\n",
    "    logging.info(\"Gabriel Guzmán\")\n",
    "    \n",
    "    # Escritura en el archivo\n",
    "    logging.info(\"Inicio de la operación de escritura.\")\n",
    "    escribir_archivo(archivo, \"Este es un ejemplo de contenido.\")\n",
    "    logging.info(\"Escritura finalizada.\")\n",
    "\n",
    "    # Lectura del archivo\n",
    "    logging.info(\"Inicio de la operación de lectura.\")\n",
    "    contenido = leer_archivo(archivo)\n",
    "    if contenido:\n",
    "        logging.info(\"Contenido leído exitosamente.\")\n",
    "    logging.info(\"Lectura finalizada.\")\n",
    "\n",
    "    # Eliminación del archivo al final (limpieza)\n",
    "    #if os.path.exists(archivo):\n",
    "    #    os.remove(archivo)\n",
    "    #    logging.info(\"Archivo %s eliminado después de la operación\", archivo)\n",
    "\n",
    "if __name__ == \"__main__\":\n",
    "    main()"
   ]
  }
 ],
 "metadata": {
  "kernelspec": {
   "display_name": "Python 3 (ipykernel)",
   "language": "python",
   "name": "python3"
  },
  "language_info": {
   "codemirror_mode": {
    "name": "ipython",
    "version": 3
   },
   "file_extension": ".py",
   "mimetype": "text/x-python",
   "name": "python",
   "nbconvert_exporter": "python",
   "pygments_lexer": "ipython3",
   "version": "3.12.5"
  }
 },
 "nbformat": 4,
 "nbformat_minor": 5
}
