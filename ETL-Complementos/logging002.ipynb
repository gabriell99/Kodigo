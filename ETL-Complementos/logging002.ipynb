{
 "cells": [
  {
   "cell_type": "code",
   "execution_count": 1,
   "id": "312a634d",
   "metadata": {},
   "outputs": [],
   "source": [
    "import logging\n",
    "import socket\n",
    "\n",
    "# Configuración básica de logging\n",
    "logging.basicConfig(\n",
    "    level=logging.DEBUG,\n",
    "    format='%(asctime)s - %(levelname)s - %(message)s',\n",
    "    filename='info_pc.log',  # Guardar logs en un archivo llamado info_pc.log\n",
    "    filemode='w'  # Sobreescribe el archivo en cada ejecución\n",
    ")\n",
    "\n",
    "def obtener_nombre_pc():\n",
    "    \"\"\"Obtiene el nombre de la computadora.\"\"\"\n",
    "    try:\n",
    "        nombre_pc = socket.gethostname()\n",
    "        logging.info(\"Nombre de la computadora obtenido: %s\", nombre_pc)\n",
    "        return nombre_pc\n",
    "    except Exception as e:\n",
    "        logging.critical(\"Error al obtener el nombre de la computadora: %s\", e)\n",
    "        return None\n",
    "\n",
    "def escribir_nombre_pc(ruta, nombre_pc):\n",
    "    \"\"\"Escribe el nombre de la computadora en un archivo.\"\"\"\n",
    "    try:\n",
    "        logging.info(\"Intentando escribir el nombre de la computadora en el archivo %s\", ruta)\n",
    "        with open(ruta, 'w') as file:\n",
    "            file.write(f\"Nombre de la computadora: {nombre_pc}\")\n",
    "            logging.debug(\"Nombre de la computadora escrito: %s\", nombre_pc)\n",
    "    except Exception as e:\n",
    "        logging.critical(\"Error al escribir el nombre de la computadora en el archivo: %s\", e)\n",
    "\n",
    "def main():\n",
    "    archivo = 'nombre_pc.txt'\n",
    "    \n",
    "    # Obtener y escribir el nombre de la computadora\n",
    "    logging.info(\"Inicio de la operación para obtener y escribir el nombre de la computadora.\")\n",
    "    nombre_pc = obtener_nombre_pc()\n",
    "    if nombre_pc:\n",
    "        escribir_nombre_pc(archivo, nombre_pc)\n",
    "        logging.info(\"Operación finalizada exitosamente.\")\n",
    "    else:\n",
    "        logging.error(\"No se pudo obtener el nombre de la computadora.\")\n",
    "    \n",
    "    logging.info(\"Proceso terminado.\")\n",
    "\n",
    "if __name__ == \"__main__\":\n",
    "    main()"
   ]
  }
 ],
 "metadata": {
  "kernelspec": {
   "display_name": "Python 3 (ipykernel)",
   "language": "python",
   "name": "python3"
  },
  "language_info": {
   "codemirror_mode": {
    "name": "ipython",
    "version": 3
   },
   "file_extension": ".py",
   "mimetype": "text/x-python",
   "name": "python",
   "nbconvert_exporter": "python",
   "pygments_lexer": "ipython3",
   "version": "3.10.4"
  }
 },
 "nbformat": 4,
 "nbformat_minor": 5
}
