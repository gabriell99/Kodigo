{
 "cells": [
  {
   "cell_type": "markdown",
   "id": "89323bdc-a383-4297-bbc3-3eb3e876e270",
   "metadata": {},
   "source": [
    "El Leave-One-Out Cross-Validation (LOOCV) es una técnica especial de validación cruzada que se utiliza para evaluar el rendimiento de un modelo de machine learning. Es similar a la validación cruzada estándar, pero tiene una característica muy particular: en cada iteración del proceso de validación, se utiliza una sola muestra como conjunto de prueba y el resto de los datos se usan para entrenar el modelo."
   ]
  },
  {
   "cell_type": "markdown",
   "id": "5e6fa078-fbfe-4fed-afc6-e5a429133c17",
   "metadata": {},
   "source": [
    "Funcionamiento de LOOCV:\n",
    "\n",
    "División de los datos:\n",
    "Dado un conjunto de datos con N muestras, LOOCV crea N particiones o iteraciones.\n",
    "En cada iteración, se deja una sola muestra fuera (de ahí el nombre \"leave one out\"), que se utilizará como conjunto de prueba.\n",
    "El modelo se entrena en las N-1 muestras restantes.\n",
    "\n",
    "Repetición del proceso:\n",
    "El proceso se repite N veces, dejando una muestra diferente fuera en cada iteración. En cada una de estas iteraciones, se entrena el modelo con N-1 muestras y se evalúa en la muestra que quedó fuera.\n",
    "\n",
    "Promedio de resultados:\n",
    "Al final del proceso, se promedian los resultados de todas las N iteraciones para obtener una métrica de rendimiento general del modelo (como el error cuadrático medio, la precisión, etc.)."
   ]
  },
  {
   "cell_type": "markdown",
   "id": "cf1c68f9-ce39-4b10-b580-abb59587ddf2",
   "metadata": {},
   "source": [
    "¿Cuándo usar LOOCV?\n",
    "* Conjuntos de datos pequeños: LOOCV es especialmente útil cuando tienes un conjunto de datos pequeño y quieres aprovechar al máximo cada muestra para entrenamiento y prueba.\n",
    "\n",
    "* Modelos sensibles a pequeñas variaciones: Si quieres una evaluación muy detallada del rendimiento del modelo, LOOCV puede ser una buena opción, ya que prueba el modelo en cada muestra individualmente."
   ]
  },
  {
   "cell_type": "code",
   "execution_count": 1,
   "id": "de5f9f3c-f208-4bd5-a9b0-975e01ba1277",
   "metadata": {},
   "outputs": [],
   "source": [
    "# Importar funciones y clases necesarias para el análisis\n",
    "from numpy import mean  # Importa la función mean de NumPy para calcular el promedio de un array\n",
    "from numpy import std  # Importa la función std de NumPy para calcular la desviación estándar de un array\n",
    "from numpy import absolute  # Importa la función absolute de NumPy para obtener los valores absolutos de un array\n",
    "from pandas import read_csv  # Importa la función read_csv de pandas para cargar datos desde un archivo CSV\n",
    "from sklearn.model_selection import LeaveOneOut  # Importa la clase LeaveOneOut para realizar validación cruzada Leave-One-Out\n",
    "from sklearn.model_selection import cross_val_score  # Importa la función cross_val_score para calcular las puntuaciones en la validación cruzada\n",
    "from sklearn.ensemble import RandomForestRegressor  # Importa el modelo de regresión de bosques aleatorios de scikit-learn\n",
    "import matplotlib.pyplot as plt\n",
    "import numpy as np\n",
    "from sklearn.neighbors import KNeighborsRegressor "
   ]
  },
  {
   "cell_type": "code",
   "execution_count": 2,
   "id": "5fca0753-6e43-4e8a-b54c-2fbfc269a701",
   "metadata": {},
   "outputs": [
    {
     "data": {
      "text/plain": [
       "'\\nfrom sklearn.linear_model import LinearRegression  # Regresión Lineal\\nfrom sklearn.tree import DecisionTreeRegressor  # Árbol de Decisión para Regresión\\nfrom sklearn.ensemble import GradientBoostingRegressor  # Gradient Boosting para Regresión\\nfrom sklearn.svm import SVR  # Support Vector Regressor\\nfrom sklearn.neighbors import KNeighborsRegressor  # Vecinos Más Cercanos para Regresión\\n\\n# Crear instancias de los modelos\\nlinear_model = LinearRegression()\\ndecision_tree = DecisionTreeRegressor()\\ngradient_boosting = GradientBoostingRegressor()\\nsvr = SVR()\\nknn = KNeighborsRegressor()\\n'"
      ]
     },
     "execution_count": 2,
     "metadata": {},
     "output_type": "execute_result"
    }
   ],
   "source": [
    "'''\n",
    "from sklearn.linear_model import LinearRegression  # Regresión Lineal\n",
    "from sklearn.tree import DecisionTreeRegressor  # Árbol de Decisión para Regresión\n",
    "from sklearn.ensemble import GradientBoostingRegressor  # Gradient Boosting para Regresión\n",
    "from sklearn.svm import SVR  # Support Vector Regressor\n",
    "from sklearn.neighbors import KNeighborsRegressor  # Vecinos Más Cercanos para Regresión\n",
    "\n",
    "# Crear instancias de los modelos\n",
    "linear_model = LinearRegression()\n",
    "decision_tree = DecisionTreeRegressor()\n",
    "gradient_boosting = GradientBoostingRegressor()\n",
    "svr = SVR()\n",
    "knn = KNeighborsRegressor()\n",
    "'''"
   ]
  },
  {
   "cell_type": "code",
   "execution_count": 3,
   "id": "d9f84908-91dd-4dda-a765-091f8c718968",
   "metadata": {},
   "outputs": [],
   "source": [
    "# Cargar el conjunto de datos\n",
    "url = 'https://raw.githubusercontent.com/jbrownlee/Datasets/master/housing.csv'  # URL del conjunto de datos\n",
    "dataframe = read_csv(url, header=None)  # Cargar el archivo CSV en un DataFrame de pandas sin nombres de columnas\n",
    "data = dataframe.values  # Convertir el DataFrame en un array de NumPy para procesamiento"
   ]
  },
  {
   "cell_type": "code",
   "execution_count": 4,
   "id": "2c708d58-376a-40a4-a992-0333bba69884",
   "metadata": {
    "scrolled": true
   },
   "outputs": [
    {
     "data": {
      "text/html": [
       "<div>\n",
       "<style scoped>\n",
       "    .dataframe tbody tr th:only-of-type {\n",
       "        vertical-align: middle;\n",
       "    }\n",
       "\n",
       "    .dataframe tbody tr th {\n",
       "        vertical-align: top;\n",
       "    }\n",
       "\n",
       "    .dataframe thead th {\n",
       "        text-align: right;\n",
       "    }\n",
       "</style>\n",
       "<table border=\"1\" class=\"dataframe\">\n",
       "  <thead>\n",
       "    <tr style=\"text-align: right;\">\n",
       "      <th></th>\n",
       "      <th>0</th>\n",
       "      <th>1</th>\n",
       "      <th>2</th>\n",
       "      <th>3</th>\n",
       "      <th>4</th>\n",
       "      <th>5</th>\n",
       "      <th>6</th>\n",
       "      <th>7</th>\n",
       "      <th>8</th>\n",
       "      <th>9</th>\n",
       "      <th>10</th>\n",
       "      <th>11</th>\n",
       "      <th>12</th>\n",
       "      <th>13</th>\n",
       "    </tr>\n",
       "  </thead>\n",
       "  <tbody>\n",
       "    <tr>\n",
       "      <th>0</th>\n",
       "      <td>0.00632</td>\n",
       "      <td>18.0</td>\n",
       "      <td>2.31</td>\n",
       "      <td>0</td>\n",
       "      <td>0.538</td>\n",
       "      <td>6.575</td>\n",
       "      <td>65.2</td>\n",
       "      <td>4.0900</td>\n",
       "      <td>1</td>\n",
       "      <td>296.0</td>\n",
       "      <td>15.3</td>\n",
       "      <td>396.90</td>\n",
       "      <td>4.98</td>\n",
       "      <td>24.0</td>\n",
       "    </tr>\n",
       "    <tr>\n",
       "      <th>1</th>\n",
       "      <td>0.02731</td>\n",
       "      <td>0.0</td>\n",
       "      <td>7.07</td>\n",
       "      <td>0</td>\n",
       "      <td>0.469</td>\n",
       "      <td>6.421</td>\n",
       "      <td>78.9</td>\n",
       "      <td>4.9671</td>\n",
       "      <td>2</td>\n",
       "      <td>242.0</td>\n",
       "      <td>17.8</td>\n",
       "      <td>396.90</td>\n",
       "      <td>9.14</td>\n",
       "      <td>21.6</td>\n",
       "    </tr>\n",
       "    <tr>\n",
       "      <th>2</th>\n",
       "      <td>0.02729</td>\n",
       "      <td>0.0</td>\n",
       "      <td>7.07</td>\n",
       "      <td>0</td>\n",
       "      <td>0.469</td>\n",
       "      <td>7.185</td>\n",
       "      <td>61.1</td>\n",
       "      <td>4.9671</td>\n",
       "      <td>2</td>\n",
       "      <td>242.0</td>\n",
       "      <td>17.8</td>\n",
       "      <td>392.83</td>\n",
       "      <td>4.03</td>\n",
       "      <td>34.7</td>\n",
       "    </tr>\n",
       "    <tr>\n",
       "      <th>3</th>\n",
       "      <td>0.03237</td>\n",
       "      <td>0.0</td>\n",
       "      <td>2.18</td>\n",
       "      <td>0</td>\n",
       "      <td>0.458</td>\n",
       "      <td>6.998</td>\n",
       "      <td>45.8</td>\n",
       "      <td>6.0622</td>\n",
       "      <td>3</td>\n",
       "      <td>222.0</td>\n",
       "      <td>18.7</td>\n",
       "      <td>394.63</td>\n",
       "      <td>2.94</td>\n",
       "      <td>33.4</td>\n",
       "    </tr>\n",
       "    <tr>\n",
       "      <th>4</th>\n",
       "      <td>0.06905</td>\n",
       "      <td>0.0</td>\n",
       "      <td>2.18</td>\n",
       "      <td>0</td>\n",
       "      <td>0.458</td>\n",
       "      <td>7.147</td>\n",
       "      <td>54.2</td>\n",
       "      <td>6.0622</td>\n",
       "      <td>3</td>\n",
       "      <td>222.0</td>\n",
       "      <td>18.7</td>\n",
       "      <td>396.90</td>\n",
       "      <td>5.33</td>\n",
       "      <td>36.2</td>\n",
       "    </tr>\n",
       "  </tbody>\n",
       "</table>\n",
       "</div>"
      ],
      "text/plain": [
       "        0     1     2   3      4      5     6       7   8      9     10  \\\n",
       "0  0.00632  18.0  2.31   0  0.538  6.575  65.2  4.0900   1  296.0  15.3   \n",
       "1  0.02731   0.0  7.07   0  0.469  6.421  78.9  4.9671   2  242.0  17.8   \n",
       "2  0.02729   0.0  7.07   0  0.469  7.185  61.1  4.9671   2  242.0  17.8   \n",
       "3  0.03237   0.0  2.18   0  0.458  6.998  45.8  6.0622   3  222.0  18.7   \n",
       "4  0.06905   0.0  2.18   0  0.458  7.147  54.2  6.0622   3  222.0  18.7   \n",
       "\n",
       "       11    12    13  \n",
       "0  396.90  4.98  24.0  \n",
       "1  396.90  9.14  21.6  \n",
       "2  392.83  4.03  34.7  \n",
       "3  394.63  2.94  33.4  \n",
       "4  396.90  5.33  36.2  "
      ]
     },
     "execution_count": 4,
     "metadata": {},
     "output_type": "execute_result"
    }
   ],
   "source": [
    "dataframe.head()"
   ]
  },
  {
   "cell_type": "code",
   "execution_count": 5,
   "id": "d6184a80-7a72-4c0b-a0f7-32fee32d9581",
   "metadata": {},
   "outputs": [
    {
     "name": "stdout",
     "output_type": "stream",
     "text": [
      "(506, 13) (506,)\n"
     ]
    }
   ],
   "source": [
    "# Separar el conjunto de datos en entradas (X) y salidas (y)\n",
    "X, y = data[:, :-1], data[:, -1]  # X contiene todas las columnas excepto la última, y contiene solo la última columna\n",
    "print(X.shape, y.shape)  # Imprimir las dimensiones de las entradas y salidas"
   ]
  },
  {
   "cell_type": "markdown",
   "id": "2ab802c7-be69-4ee0-b786-db5c4969db6f",
   "metadata": {},
   "source": [
    "X, y = data[:, :-1], data[:, -1]:\n",
    "\n",
    "X: Selecciona todas las filas del array data y todas las columnas excepto la última (:-1). Esto contiene las características o variables independientes (entradas).\n",
    "y: Selecciona todas las filas del array data y solo la última columna (-1). Esta columna representa la variable objetivo o dependiente (salidas).\n",
    "El conjunto de datos de Boston contiene diversas características de viviendas (en X) y el precio medio de la vivienda (en y)."
   ]
  },
  {
   "cell_type": "code",
   "execution_count": 6,
   "id": "ec4b683a-4522-49d5-86ab-67e2fd7e05ae",
   "metadata": {},
   "outputs": [],
   "source": [
    "cv = LeaveOneOut()"
   ]
  },
  {
   "cell_type": "code",
   "execution_count": 35,
   "id": "1aec55b0-0390-4150-8316-3bf39ccc2741",
   "metadata": {},
   "outputs": [],
   "source": [
    "# Crear el modelo de regresión utilizando Random Forest\n",
    "model = RandomForestRegressor(random_state=1)\n",
    "#model = RandomForestRegressor(random_state=1)\n",
    "#model = LinearRegression # Regresión Lineal #NameError: name 'LinearRegression' is not defined\n",
    "#model = DecisionTreeRegressor(random_state=1)  # Árbol de Decisión para Regresión #NameError: name 'DecisionTreeRegressor' is not defined\n",
    "#model = GradientBoostingRegressor(random_state=1)  # Gradient Boosting para Regresión #NameError: name 'GradientBoostingRegressor' is not defined\n",
    "#model = SVR(random_state=1)  # Support Vector Regressor #NameError: name 'SVR' is not defined\n",
    "#model = KNeighborsRegressor()  # Vecinos Más Cercanos para Regresión"
   ]
  },
  {
   "cell_type": "code",
   "execution_count": 14,
   "id": "d58eb9ca-0230-4428-9525-4dfb8bb31d5c",
   "metadata": {},
   "outputs": [],
   "source": [
    "# Evaluar el modelo utilizando Leave-One-Out Cross-Validation (LOOCV)\n",
    "scores = cross_val_score(model, X, y, scoring='neg_mean_squared_error', cv=cv, n_jobs=-1)"
   ]
  },
  {
   "cell_type": "markdown",
   "id": "d5a0c127-2d9a-4884-b0c8-6b5f5779d8a0",
   "metadata": {
    "jupyter": {
     "source_hidden": true
    }
   },
   "source": [
    "cross_val_score():\n",
    "\n",
    "Esta función realiza la validación cruzada utilizando el modelo y los datos proporcionados. En este caso, se utiliza el procedimiento LOOCV definido anteriormente con LeaveOneOut().\n",
    "Se entrena y evalúa el modelo en cada iteración, donde una muestra se utiliza como conjunto de prueba y el resto como conjunto de entrenamiento.\n",
    "Parámetros:\n",
    "\n",
    "model: El modelo que será evaluado, en este caso, el RandomForestRegressor.\n",
    "X: El conjunto de características o variables independientes.\n",
    "y: La variable objetivo que se quiere predecir (en este caso, el precio de las viviendas).\n",
    "scoring='neg_mean_absolute_error': Especifica la métrica de evaluación. En este caso, se utiliza el error absoluto medio negativo (MAE negativo). El MAE mide el error promedio entre las predicciones y los valores reales. Dado que scikit-learn maximiza las métricas por defecto, se devuelve el valor negativo del MAE para ajustarse a este criterio.\n",
    "cv=cv: Utiliza el procedimiento LOOCV definido anteriormente para dividir los datos.\n",
    "n_jobs=-1: Esto indica que se utilizarán todos los núcleos de CPU disponibles para acelerar el proceso de validación cruzada (paralelización).\n",
    "scores:\n",
    "\n",
    "Almacena un array con los scores (puntuaciones) obtenidos en cada iteración del procedimiento de validación cruzada (en este caso, uno por cada muestra, ya que se usa LOOCV).\n",
    "Los valores en scores serán los MAE negativos de cada iteración."
   ]
  },
  {
   "cell_type": "markdown",
   "id": "4eea5af0-4d08-4670-9410-3edd5d8948eb",
   "metadata": {},
   "source": [
    "métricas más comunes para regresión:\n",
    "* neg_mean_squared_error: Penaliza más los errores grandes.\n",
    "* neg_root_mean_squared_error: Es el MSE interpretado en las mismas unidades que la variable objetivo.\n",
    "* neg_mean_absolute_error: Penaliza todos los errores por igual.\n",
    "* r2: Indica qué tan bien se ajusta el modelo a los datos (1 es el ajuste perfecto).\n",
    "* explained_variance: Proporción de la varianza explicada por el modelo."
   ]
  },
  {
   "cell_type": "code",
   "execution_count": 16,
   "id": "09a4147e-02ac-471d-92c4-d3b0ae1f0e21",
   "metadata": {},
   "outputs": [],
   "source": [
    "#La función absolute() proviene de NumPy y se utiliza para calcular el valor absoluto de cada elemento en un array.\n",
    "scores = absolute(scores)"
   ]
  },
  {
   "cell_type": "code",
   "execution_count": 17,
   "id": "d142d9fc-c306-4b01-8be8-40d537399a0b",
   "metadata": {},
   "outputs": [
    {
     "data": {
      "text/plain": [
       "506"
      ]
     },
     "execution_count": 17,
     "metadata": {},
     "output_type": "execute_result"
    }
   ],
   "source": [
    "len(scores)"
   ]
  },
  {
   "cell_type": "code",
   "execution_count": 18,
   "id": "480cd987-34a2-48f8-9ebc-a52f2e972912",
   "metadata": {},
   "outputs": [
    {
     "name": "stdout",
     "output_type": "stream",
     "text": [
      "c-G.G [Gabriel Guzmán] MAE: 10.229 (30.372)\n"
     ]
    }
   ],
   "source": [
    "print('c-G.G [Gabriel Guzmán] MAE: %.3f (%.3f)' % (mean(scores), std(scores)))"
   ]
  },
  {
   "cell_type": "markdown",
   "id": "902fef66-760b-4696-80c0-4647fa647490",
   "metadata": {},
   "source": [
    "* 2.182:\n",
    "\n",
    "Este es el MAE (Error Absoluto Medio) promedio.\n",
    "Significa que, en promedio, el modelo se está equivocando en aproximadamente 2.182 unidades en sus predicciones en comparación con los valores reales.\n",
    "Cuanto más bajo sea este valor, mejor es el rendimiento del modelo, ya que indica un menor error en las predicciones.\n",
    "\n",
    "\n",
    "* 2.338:\n",
    "\n",
    "Este valor es la desviación estándar del MAE.\n",
    "La desviación estándar mide la dispersión de los errores a lo largo de los diferentes folds de validación cruzada.\n",
    "Una desviación estándar de 2.338 indica que los errores del modelo varían en un rango de aproximadamente 2.338 unidades alrededor del promedio de 2.182.\n",
    "Si este valor fuera más pequeño, indicaría que los errores están más consistentes entre las diferentes particiones de los datos. Un valor mayor sugiere que hay más variación en los errores."
   ]
  },
  {
   "cell_type": "code",
   "execution_count": 19,
   "id": "388d00c2-8c8d-4ab9-b285-3ec42142d7c7",
   "metadata": {},
   "outputs": [
    {
     "data": {
      "image/png": "[encoded data removed]",
      "text/plain": [
       "<Figure size 800x600 with 1 Axes>"
      ]
     },
     "metadata": {},
     "output_type": "display_data"
    }
   ],
   "source": [
    "# Crear el histograma de los valores en scores\n",
    "plt.figure(figsize=(8,6))\n",
    "plt.hist(scores, bins=5, color='blue', edgecolor='black')\n",
    "plt.title('Distribución de los Errores Absolutos (MAE) c-G.G')\n",
    "plt.xlabel('Error Absoluto')\n",
    "plt.ylabel('Frecuencia')\n",
    "\n",
    "# Mostrar la gráfica\n",
    "plt.show()"
   ]
  },
  {
   "cell_type": "code",
   "execution_count": 20,
   "id": "109a2bf3-4604-47d6-a2a9-449b9c390e6f",
   "metadata": {},
   "outputs": [
    {
     "data": {
      "image/png": "[encoded data removed]",
      "text/plain": [
       "<Figure size 800x600 with 1 Axes>"
      ]
     },
     "metadata": {},
     "output_type": "display_data"
    }
   ],
   "source": [
    "# Crear una gráfica de dispersión (nube de puntos)\n",
    "plt.figure(figsize=(8,6))\n",
    "plt.scatter(range(len(scores)), scores, color='blue')\n",
    "plt.title('Nube de Puntos de los Errores Absolutos (MAE) c-G.G')\n",
    "plt.xlabel('Índice de la Observación')\n",
    "plt.ylabel('Error Absoluto')\n",
    "\n",
    "# Mostrar la gráfica\n",
    "plt.show()"
   ]
  }
 ],
 "metadata": {
  "kernelspec": {
   "display_name": "Python 3 (ipykernel)",
   "language": "python",
   "name": "python3"
  },
  "language_info": {
   "codemirror_mode": {
    "name": "ipython",
    "version": 3
   },
   "file_extension": ".py",
   "mimetype": "text/x-python",
   "name": "python",
   "nbconvert_exporter": "python",
   "pygments_lexer": "ipython3",
   "version": "3.12.5"
  }
 },
 "nbformat": 4,
 "nbformat_minor": 5
}
