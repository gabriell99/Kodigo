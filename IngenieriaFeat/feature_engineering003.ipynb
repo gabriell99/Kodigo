{
 "cells": [
  {
   "cell_type": "markdown",
   "id": "47b2fb41",
   "metadata": {},
   "source": [
    "## ¿Qué es el Método IQR?\n",
    "\n",
    "El rango intercuartílico (IQR) es una medida estadística de la dispersión en los datos. Se calcula como la diferencia entre el tercer cuartil (Q3) y el primer cuartil (Q1), y representa el rango donde se concentra la mitad central de los datos. Este método es común para detectar valores atípicos (outliers), ya que los outliers suelen estar por fuera de los rangos normales de variación de los datos."
   ]
  },
  {
   "cell_type": "markdown",
   "id": "c09d605d",
   "metadata": {},
   "source": [
    "Cualquier dato que esté por debajo del límite inferior o por encima del límite superior es considerado un outlier. Esto es porque, estadísticamente, los valores fuera de este rango tienen menos probabilidad de pertenecer a la distribución central de los datos y podrían distorsionar el análisis."
   ]
  },
  {
   "cell_type": "markdown",
   "id": "85960f54",
   "metadata": {},
   "source": [
    "La constante 1.5 en el cálculo de los límites de los outliers es una convención estadística ampliamente aceptada para detectar valores extremos que se desvían significativamente del rango intercuartílico (IQR)."
   ]
  },
  {
   "cell_type": "markdown",
   "id": "2d92f8b0",
   "metadata": {},
   "source": [
    "Si se espera una cantidad significativa de outliers o una distribución con mucha variabilidad, podrías usar una constante diferente:\n",
    "\n",
    "* 1.0 veces el IQR: Para detectar más outliers, incluyendo valores menos extremos.\n",
    "* 3.0 veces el IQR: Para detectar solo los valores extremadamente lejanos, en datos donde el rango típico es muy amplio.\n",
    "* la constante 1.5 es un valor ampliamente aceptado por su eficacia para detectar valores fuera de lo común en distribuciones comunes sin ser demasiado restrictivo ni demasiado permisivo."
   ]
  },
  {
   "cell_type": "code",
   "execution_count": 1,
   "id": "d43c3f5f",
   "metadata": {},
   "outputs": [
    {
     "name": "stderr",
     "output_type": "stream",
     "text": [
      "INFO - DataFrame inicial con posibles outliers:\n",
      "INFO - Valores atípicos detectados:\n",
      "     Ingresos\n",
      "100   20000.0\n",
      "101   22000.0\n",
      "102   25000.0\n",
      "INFO - DataFrame después del tratamiento de outliers (reemplazo con percentil 95):\n"
     ]
    },
    {
     "name": "stdout",
     "output_type": "stream",
     "text": [
      "DataFrame inicial con posibles outliers:\n",
      "           Ingresos\n",
      "count    103.000000\n",
      "mean    5591.953421\n",
      "std     3294.787479\n",
      "min     1170.515276\n",
      "25%     4090.121181\n",
      "50%     5190.368139\n",
      "75%     6231.444916\n",
      "max    25000.000000\n",
      "\n",
      "DataFrame después del tratamiento de outliers:\n",
      "          Ingresos\n",
      "count   103.000000\n",
      "mean   5172.087309\n",
      "std    1571.369195\n",
      "min    1170.515276\n",
      "25%    4090.121181\n",
      "50%    5190.368139\n",
      "75%    6231.444916\n",
      "max    8404.631936\n"
     ]
    }
   ],
   "source": [
    "import pandas as pd\n",
    "import numpy as np\n",
    "import logging\n",
    "\n",
    "# Configuración de logging\n",
    "logging.basicConfig(\n",
    "    level=logging.INFO,\n",
    "    format='%(asctime)s - %(levelname)s - %(message)s',\n",
    "    filename='outliers_detection.log',\n",
    "    filemode='w'\n",
    ")\n",
    "logger = logging.getLogger(\"OutliersLogger\")\n",
    "console_handler = logging.StreamHandler()\n",
    "console_handler.setLevel(logging.INFO)\n",
    "console_format = logging.Formatter('%(levelname)s - %(message)s')\n",
    "console_handler.setFormatter(console_format)\n",
    "logger.addHandler(console_handler)\n",
    "\n",
    "# Generación de datos simulados con outliers\n",
    "np.random.seed(0)\n",
    "ingresos = np.random.normal(5000, 1500, 100).tolist()  # Ingresos promedio con desvío estándar\n",
    "ingresos.extend([20000, 22000, 25000])  # Agregar algunos valores atípicos (outliers)\n",
    "df = pd.DataFrame({'Ingresos': ingresos})\n",
    "\n",
    "# Imprimir el DataFrame inicial\n",
    "logger.info(\"DataFrame inicial con posibles outliers:\")\n",
    "print(\"DataFrame inicial con posibles outliers:\")\n",
    "print(df.describe())\n",
    "\n",
    "# Detección de outliers usando el método IQR\n",
    "Q1 = df['Ingresos'].quantile(0.25)\n",
    "Q3 = df['Ingresos'].quantile(0.75)\n",
    "IQR = Q3 - Q1\n",
    "lower_bound = Q1 - 1.5 * IQR\n",
    "upper_bound = Q3 + 1.5 * IQR\n",
    "\n",
    "outliers = df[(df['Ingresos'] < lower_bound) | (df['Ingresos'] > upper_bound)]\n",
    "logger.info(\"Valores atípicos detectados:\\n%s\", outliers)\n",
    "\n",
    "# Tratamiento de outliers: reemplazar con el percentil 95\n",
    "percentile_95 = df['Ingresos'].quantile(0.95)\n",
    "df['Ingresos'] = np.where(\n",
    "    (df['Ingresos'] < lower_bound) | (df['Ingresos'] > upper_bound),\n",
    "    percentile_95,\n",
    "    df['Ingresos']\n",
    ")\n",
    "logger.info(\"DataFrame después del tratamiento de outliers (reemplazo con percentil 95):\")\n",
    "print(\"\\nDataFrame después del tratamiento de outliers:\")\n",
    "print(df.describe())\n"
   ]
  }
 ],
 "metadata": {
  "kernelspec": {
   "display_name": "Python 3 (ipykernel)",
   "language": "python",
   "name": "python3"
  },
  "language_info": {
   "codemirror_mode": {
    "name": "ipython",
    "version": 3
   },
   "file_extension": ".py",
   "mimetype": "text/x-python",
   "name": "python",
   "nbconvert_exporter": "python",
   "pygments_lexer": "ipython3",
   "version": "3.12.4"
  }
 },
 "nbformat": 4,
 "nbformat_minor": 5
}
