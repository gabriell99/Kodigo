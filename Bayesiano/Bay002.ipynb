{
 "cells": [
  {
   "cell_type": "code",
   "execution_count": 6,
   "id": "a0863f5e",
   "metadata": {},
   "outputs": [
    {
     "name": "stdout",
     "output_type": "stream",
     "text": [
      "Dataset Overview:\n",
      "Number of samples: 1797\n",
      "Number of features (pixels per image): 64\n",
      "Classes: {0, 1, 2, 3, 4, 5, 6, 7, 8, 9}\n",
      "\n"
     ]
    },
    {
     "data": {
      "image/png": "[encoded data removed]",
      "text/plain": [
       "<Figure size 1000x400 with 10 Axes>"
      ]
     },
     "metadata": {},
     "output_type": "display_data"
    },
    {
     "name": "stdout",
     "output_type": "stream",
     "text": [
      "Accuracy: 0.8518518518518519\n",
      "\n",
      "Classification Report:\n",
      "               precision    recall  f1-score   support\n",
      "\n",
      "           0       1.00      0.98      0.99        53\n",
      "           1       0.86      0.74      0.80        50\n",
      "           2       0.86      0.66      0.75        47\n",
      "           3       0.95      0.76      0.85        54\n",
      "           4       0.98      0.85      0.91        60\n",
      "           5       0.94      0.94      0.94        66\n",
      "           6       0.89      0.96      0.93        53\n",
      "           7       0.72      0.98      0.83        55\n",
      "           8       0.57      0.91      0.70        43\n",
      "           9       0.89      0.71      0.79        59\n",
      "\n",
      "    accuracy                           0.85       540\n",
      "   macro avg       0.87      0.85      0.85       540\n",
      "weighted avg       0.88      0.85      0.85       540\n",
      "\n",
      "\n",
      "Confusion Matrix:\n",
      " [[52  0  0  0  0  0  0  1  0  0]\n",
      " [ 0 37  2  0  0  0  0  2  6  3]\n",
      " [ 0  3 31  0  0  0  1  0 12  0]\n",
      " [ 0  0  2 41  0  0  1  0  8  2]\n",
      " [ 0  0  0  0 51  0  2  7  0  0]\n",
      " [ 0  0  0  1  0 62  1  2  0  0]\n",
      " [ 0  0  0  0  1  1 51  0  0  0]\n",
      " [ 0  0  0  0  0  1  0 54  0  0]\n",
      " [ 0  2  0  0  0  0  0  2 39  0]\n",
      " [ 0  1  1  1  0  2  1  7  4 42]]\n"
     ]
    },
    {
     "data": {
      "image/png": "[encoded data removed]",
      "text/plain": [
       "<Figure size 1000x400 with 10 Axes>"
      ]
     },
     "metadata": {},
     "output_type": "display_data"
    }
   ],
   "source": [
    "# Importing required libraries\n",
    "from sklearn.datasets import load_digits\n",
    "from sklearn.model_selection import train_test_split\n",
    "from sklearn.naive_bayes import GaussianNB\n",
    "from sklearn.metrics import accuracy_score, classification_report, confusion_matrix\n",
    "import matplotlib.pyplot as plt\n",
    "\n",
    "# Loading the Digits dataset\n",
    "data = load_digits()\n",
    "\n",
    "# Displaying some sample digits with their actual labels\n",
    "print(\"Dataset Overview:\")\n",
    "print(f\"Number of samples: {X.shape[0]}\")\n",
    "print(f\"Number of features (pixels per image): {X.shape[1]}\")\n",
    "print(f\"Classes: {set(y)}\\n\")\n",
    "\n",
    "plt.figure(figsize=(10, 4))\n",
    "for index, (image, label) in enumerate(zip(X[:10], y[:10])):\n",
    "    plt.subplot(2, 5, index + 1)\n",
    "    plt.imshow(image.reshape(8, 8), cmap=\"hot\")\n",
    "    plt.title(f\"Label: {label}\")\n",
    "    plt.axis(\"off\")\n",
    "plt.show()\n",
    "\n",
    "\n",
    "X = data.data  # Features (64 pixel values per image)\n",
    "y = data.target  # Labels (digit classes 0-9)\n",
    "\n",
    "# Splitting the dataset into training and testing sets\n",
    "X_train, X_test, y_train, y_test = train_test_split(X, y, test_size=0.3, random_state=42)\n",
    "\n",
    "# Initializing the Naive Bayes classifier\n",
    "nb_classifier = GaussianNB()\n",
    "\n",
    "# Fitting the model to the training data\n",
    "nb_classifier.fit(X_train, y_train)\n",
    "\n",
    "# Making predictions on the test set\n",
    "y_pred = nb_classifier.predict(X_test)\n",
    "\n",
    "# Evaluating the model\n",
    "accuracy = accuracy_score(y_test, y_pred)\n",
    "print(\"Accuracy:\", accuracy)\n",
    "print(\"\\nClassification Report:\\n\", classification_report(y_test, y_pred))\n",
    "print(\"\\nConfusion Matrix:\\n\", confusion_matrix(y_test, y_pred))\n",
    "\n",
    "# Visualizing some sample digits with their predicted labels\n",
    "plt.figure(figsize=(10, 4))\n",
    "for index, (image, label) in enumerate(zip(X_test[:10], y_pred[:10])):\n",
    "    plt.subplot(2, 5, index + 1)\n",
    "    plt.imshow(image.reshape(8, 8), cmap=\"gray\")\n",
    "    plt.title(f\"Pred: {label}\")\n",
    "    plt.axis(\"off\")\n",
    "plt.show()\n"
   ]
  }
 ],
 "metadata": {
  "kernelspec": {
   "display_name": "Python 3 (ipykernel)",
   "language": "python",
   "name": "python3"
  },
  "language_info": {
   "codemirror_mode": {
    "name": "ipython",
    "version": 3
   },
   "file_extension": ".py",
   "mimetype": "text/x-python",
   "name": "python",
   "nbconvert_exporter": "python",
   "pygments_lexer": "ipython3",
   "version": "3.12.4"
  }
 },
 "nbformat": 4,
 "nbformat_minor": 5
}
