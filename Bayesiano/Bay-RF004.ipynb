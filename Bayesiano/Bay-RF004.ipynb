{
 "cells": [
  {
   "cell_type": "code",
   "execution_count": 2,
   "id": "824fdb78",
   "metadata": {},
   "outputs": [
    {
     "name": "stdout",
     "output_type": "stream",
     "text": [
      "Dataset Overview:\n",
      "Number of samples: 1797\n",
      "Number of features (pixels per image): 64\n",
      "Classes: {0, 1, 2, 3, 4, 5, 6, 7, 8, 9}\n",
      "\n"
     ]
    },
    {
     "data": {
      "image/png": "[encoded data removed]",
      "text/plain": [
       "<Figure size 1000x400 with 10 Axes>"
      ]
     },
     "metadata": {},
     "output_type": "display_data"
    },
    {
     "name": "stdout",
     "output_type": "stream",
     "text": [
      "Best Hyperparameters: {'max_depth': None, 'min_samples_leaf': 1, 'min_samples_split': 2, 'n_estimators': 50}\n",
      "Best Cross-Validation Accuracy: 0.9705780054385631\n",
      "\n",
      "Test Accuracy with Optimized Model: 0.9740740740740741\n",
      "\n",
      "Classification Report:\n",
      "               precision    recall  f1-score   support\n",
      "\n",
      "           0       1.00      0.98      0.99        53\n",
      "           1       0.96      0.98      0.97        50\n",
      "           2       0.98      1.00      0.99        47\n",
      "           3       0.96      1.00      0.98        54\n",
      "           4       0.97      1.00      0.98        60\n",
      "           5       0.98      0.95      0.97        66\n",
      "           6       0.98      0.98      0.98        53\n",
      "           7       0.96      0.98      0.97        55\n",
      "           8       0.98      0.95      0.96        43\n",
      "           9       0.96      0.92      0.94        59\n",
      "\n",
      "    accuracy                           0.97       540\n",
      "   macro avg       0.97      0.97      0.97       540\n",
      "weighted avg       0.97      0.97      0.97       540\n",
      "\n",
      "\n",
      "Confusion Matrix:\n",
      " [[52  0  0  0  1  0  0  0  0  0]\n",
      " [ 0 49  1  0  0  0  0  0  0  0]\n",
      " [ 0  0 47  0  0  0  0  0  0  0]\n",
      " [ 0  0  0 54  0  0  0  0  0  0]\n",
      " [ 0  0  0  0 60  0  0  0  0  0]\n",
      " [ 0  0  0  0  1 63  1  0  0  1]\n",
      " [ 0  0  0  0  0  1 52  0  0  0]\n",
      " [ 0  0  0  0  0  0  0 54  0  1]\n",
      " [ 0  2  0  0  0  0  0  0 41  0]\n",
      " [ 0  0  0  2  0  0  0  2  1 54]]\n"
     ]
    },
    {
     "data": {
      "image/png": "[encoded data removed]",
      "text/plain": [
       "<Figure size 1000x400 with 10 Axes>"
      ]
     },
     "metadata": {},
     "output_type": "display_data"
    }
   ],
   "source": [
    "# Importing required libraries\n",
    "from sklearn.datasets import load_digits\n",
    "from sklearn.model_selection import train_test_split, GridSearchCV\n",
    "from sklearn.ensemble import RandomForestClassifier\n",
    "from sklearn.metrics import accuracy_score, classification_report, confusion_matrix\n",
    "import matplotlib.pyplot as plt\n",
    "\n",
    "# Loading the Digits dataset\n",
    "data = load_digits()\n",
    "X = data.data  # Features (64 pixel values per image)\n",
    "y = data.target  # Labels (digit classes 0-9)\n",
    "\n",
    "# Displaying some sample digits with their actual labels\n",
    "print(\"Dataset Overview:\")\n",
    "print(f\"Number of samples: {X.shape[0]}\")\n",
    "print(f\"Number of features (pixels per image): {X.shape[1]}\")\n",
    "print(f\"Classes: {set(y)}\\n\")\n",
    "\n",
    "plt.figure(figsize=(10, 4))\n",
    "for index, (image, label) in enumerate(zip(X[:10], y[:10])):\n",
    "    plt.subplot(2, 5, index + 1)\n",
    "    plt.imshow(image.reshape(8, 8), cmap=\"hot\")\n",
    "    plt.title(f\"Label: {label}\")\n",
    "    plt.axis(\"off\")\n",
    "plt.show()\n",
    "\n",
    "# Splitting the dataset into training and testing sets\n",
    "X_train, X_test, y_train, y_test = train_test_split(X, y, test_size=0.3, random_state=42)\n",
    "\n",
    "# Defining the model\n",
    "model = RandomForestClassifier(random_state=42)\n",
    "\n",
    "# Defining the hyperparameter grid\n",
    "param_grid = {\n",
    "    'n_estimators': [50, 100, 200],\n",
    "    'max_depth': [None, 10, 20],\n",
    "    'min_samples_split': [2, 5, 10],\n",
    "    'min_samples_leaf': [1, 2, 4]\n",
    "}\n",
    "\n",
    "# Performing GridSearchCV\n",
    "grid_search = GridSearchCV(model, param_grid, cv=5, scoring='accuracy', n_jobs=-1)\n",
    "grid_search.fit(X_train, y_train)\n",
    "\n",
    "# Best hyperparameters and cross-validation score\n",
    "print(\"Best Hyperparameters:\", grid_search.best_params_)\n",
    "print(\"Best Cross-Validation Accuracy:\", grid_search.best_score_)\n",
    "\n",
    "# Using the best model to make predictions\n",
    "best_model = grid_search.best_estimator_\n",
    "y_pred = best_model.predict(X_test)\n",
    "\n",
    "# Evaluating the optimized model\n",
    "accuracy = accuracy_score(y_test, y_pred)\n",
    "print(\"\\nTest Accuracy with Optimized Model:\", accuracy)\n",
    "print(\"\\nClassification Report:\\n\", classification_report(y_test, y_pred))\n",
    "print(\"\\nConfusion Matrix:\\n\", confusion_matrix(y_test, y_pred))\n",
    "\n",
    "# Displaying some test samples with predicted labels\n",
    "plt.figure(figsize=(10, 4))\n",
    "for index, (image, label) in enumerate(zip(X_test[:10], y_pred[:10])):\n",
    "    plt.subplot(2, 5, index + 1)\n",
    "    plt.imshow(image.reshape(8, 8), cmap=\"gray\")\n",
    "    plt.title(f\"Pred: {label}\")\n",
    "    plt.axis(\"off\")\n",
    "plt.show()\n"
   ]
  },
  {
   "cell_type": "code",
   "execution_count": null,
   "id": "82c4b72e",
   "metadata": {},
   "outputs": [],
   "source": []
  }
 ],
 "metadata": {
  "kernelspec": {
   "display_name": "Python 3 (ipykernel)",
   "language": "python",
   "name": "python3"
  },
  "language_info": {
   "codemirror_mode": {
    "name": "ipython",
    "version": 3
   },
   "file_extension": ".py",
   "mimetype": "text/x-python",
   "name": "python",
   "nbconvert_exporter": "python",
   "pygments_lexer": "ipython3",
   "version": "3.12.4"
  }
 },
 "nbformat": 4,
 "nbformat_minor": 5
}
