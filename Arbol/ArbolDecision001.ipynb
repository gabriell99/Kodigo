{
 "cells": [
  {
   "cell_type": "markdown",
   "id": "de912bb0",
   "metadata": {},
   "source": [
    "El dataset con el que estamos trabajando es de una campaña de marketing telefónica de una institución bancaria. El objetivo es predecir si un cliente suscribirá o no un depósito a plazo (la variable y). Esta información es crucial para el banco, ya que un depósito a plazo es una fuente importante de ingresos y requiere inversión en campañas de marketing.\n",
    "\n",
    "Descripción de los Atributos del Dataset\n",
    "Aquí tienes una descripción detallada de cada atributo:\n",
    "\n",
    "* age: Edad del cliente. (Numérico)\n",
    "\n",
    "* job: Tipo de empleo del cliente. Las categorías incluyen:\n",
    "\n",
    "\"admin.\", \"unknown\", \"unemployed\", \"management\", \"housemaid\", \"entrepreneur\", \"student\", \"blue-collar\", \"self-employed\", \"retired\", \"technician\", \"services\". (Categórico)\n",
    "* marital: Estado civil del cliente. Las categorías incluyen:\n",
    "\n",
    "\"married\", \"divorced\" (incluye personas viudas), \"single\". (Categórico)\n",
    "*education: Nivel educativo del cliente. Las categorías incluyen:\n",
    "\n",
    "\"unknown\", \"secondary\", \"primary\", \"tertiary\". (Categórico)\n",
    "* default: Indica si el cliente tiene crédito en mora. (Binario: \"yes\", \"no\")\n",
    "\n",
    "* balance: Balance promedio anual del cliente en la cuenta bancaria, en euros. (Numérico)\n",
    "\n",
    "* housing: Indica si el cliente tiene un préstamo hipotecario. (Binario: \"yes\", \"no\")\n",
    "\n",
    "* loan: Indica si el cliente tiene un préstamo personal. (Binario: \"yes\", \"no\")\n",
    "\n",
    "** Atributos Relacionados con la Última Campaña de Contacto\n",
    "* contact: Tipo de comunicación utilizada en la última campaña de contacto. Las opciones son:\n",
    "\n",
    "\"unknown\", \"telephone\", \"cellular\". (Categórico)\n",
    "* day: Día del mes en que se realizó el último contacto con el cliente. (Numérico)\n",
    "\n",
    "* month: Mes en que se realizó el último contacto con el cliente. (Categórico: \"jan\", \"feb\", \"mar\", …, \"nov\", \"dec\")\n",
    "\n",
    "* duration: Duración de la última llamada en segundos. (Numérico)\n",
    "\n",
    "Nota: Esta variable tiene un impacto directo en el objetivo. En general, una mayor duración puede indicar un mayor interés en el producto.\n",
    "** Otros Atributos\n",
    "* campaign: Número de contactos realizados durante la campaña para este cliente, incluido el último contacto. (Numérico)\n",
    "\n",
    "* pdays: Número de días desde el último contacto del cliente en una campaña anterior. (Numérico)\n",
    "\n",
    "Un valor de -1 indica que el cliente no fue contactado previamente.\n",
    "* previous: Número de contactos realizados antes de esta campaña para este cliente. (Numérico)\n",
    "\n",
    "* poutcome: Resultado de la campaña de marketing anterior. Las categorías incluyen:\n",
    "\n",
    "\"unknown\", \"other\", \"failure\", \"success\". (Categórico)\n",
    "* Variable Objetivo\n",
    "y: Indica si el cliente suscribió un depósito a plazo en esta campaña de marketing. (Binario: \"yes\", \"no\")"
   ]
  },
  {
   "cell_type": "code",
   "execution_count": null,
   "id": "e8d49bc5",
   "metadata": {},
   "outputs": [],
   "source": [
    "import pandas as pd\n",
    "import numpy as np\n",
    "import matplotlib.pyplot as plt\n",
    "import seaborn as sns\n",
    "import scipy.stats as stats\n",
    "from sklearn.preprocessing import StandardScaler, OneHotEncoder,MinMaxScaler\n",
    "from sklearn.compose import ColumnTransformer\n",
    "from sklearn.pipeline import Pipeline\n",
    "from imblearn.over_sampling import SMOTE\n",
    "from sklearn.model_selection import train_test_split\n",
    "from sklearn.impute import SimpleImputer\n",
    "from sklearn.tree import DecisionTreeClassifier, plot_tree\n",
    "from sklearn.metrics import classification_report, confusion_matrix, accuracy_score,roc_curve, auc,precision_recall_curve, average_precision_score\n",
    "from sklearn.model_selection import GridSearchCV\n",
    "import matplotlib.pyplot as plt"
   ]
  },
  {
   "cell_type": "code",
   "execution_count": null,
   "id": "a710f5ac",
   "metadata": {},
   "outputs": [],
   "source": [
    "# Cargar el archivo CSV\n",
    "file_path = 'dataset.csv'\n",
    "data = pd.read_csv(file_path, sep=';')"
   ]
  },
  {
   "cell_type": "code",
   "execution_count": null,
   "id": "88e0390b",
   "metadata": {},
   "outputs": [],
   "source": [
    "# Mostrar las primeras filas del dataset\n",
    "print(\"Primeras filas del dataset:\")\n",
    "print(data.head())"
   ]
  },
  {
   "cell_type": "code",
   "execution_count": null,
   "id": "fe6afd19",
   "metadata": {},
   "outputs": [],
   "source": [
    "# Información general del dataset\n",
    "print(\"\\nInformación del dataset:\")\n",
    "print(data.info())"
   ]
  },
  {
   "cell_type": "markdown",
   "id": "a276fb70",
   "metadata": {},
   "source": [
    "el dataset es completo, ya que no tiene valores faltantes. Además, la mayoría de las columnas están en formato object, lo cual es típico para variables categóricas. Las columnas en int64 son numéricas y pueden ser continuas o discretas, dependiendo de su naturaleza."
   ]
  },
  {
   "cell_type": "code",
   "execution_count": null,
   "id": "e230ca13",
   "metadata": {},
   "outputs": [],
   "source": [
    "# Verificar datos faltantes\n",
    "print(\"\\nDatos faltantes por columna:\")\n",
    "print(data.isnull().sum())"
   ]
  },
  {
   "cell_type": "code",
   "execution_count": null,
   "id": "110c1830",
   "metadata": {},
   "outputs": [],
   "source": [
    "# Estadísticas descriptivas\n",
    "data.describe()"
   ]
  },
  {
   "cell_type": "markdown",
   "id": "6113a4c2",
   "metadata": {},
   "source": [
    "Estadísticas Descriptivas\n",
    "count: Número de valores no nulos en cada columna. En este caso, todas las columnas tienen 45211 valores no nulos, lo que confirma que no hay valores faltantes en las columnas numéricas.\n",
    "\n",
    "mean: La media (promedio) de los valores de cada columna.\n",
    "\n",
    "std: La desviación estándar, que mide la dispersión de los datos alrededor de la media. Un valor alto indica que los datos están más dispersos.\n",
    "\n",
    "min: El valor mínimo en cada columna.\n",
    "\n",
    "25%: El primer cuartil, que representa el valor por debajo del cual se encuentra el 25% de los datos.\n",
    "\n",
    "50%: La mediana (o segundo cuartil), que es el valor central de los datos. Es el punto donde el 50% de los datos están por debajo y el otro 50% están por encima.\n",
    "\n",
    "75%: El tercer cuartil, que representa el valor por debajo del cual se encuentra el 75% de los datos.\n",
    "\n",
    "max: El valor máximo en cada columna."
   ]
  },
  {
   "cell_type": "code",
   "execution_count": null,
   "id": "e255308d",
   "metadata": {},
   "outputs": [],
   "source": [
    "print(\"\\nDistribución de la variable objetivo (y):\")\n",
    "print(data['y'].value_counts())"
   ]
  },
  {
   "cell_type": "code",
   "execution_count": null,
   "id": "92303e80",
   "metadata": {},
   "outputs": [],
   "source": [
    "# Seleccionar solo las columnas numéricas\n",
    "numerical_columns = data.select_dtypes(include=['int64', 'float64']).columns\n",
    "\n",
    "# Configurar el estilo de las gráficas\n",
    "plt.style.use('ggplot')\n",
    "\n",
    "# Histograma y boxplot para cada variable numérica\n",
    "for col in numerical_columns:\n",
    "    fig, axes = plt.subplots(1, 2, figsize=(12, 4))\n",
    "    \n",
    "    # Histograma\n",
    "    sns.histplot(data[col], kde=True, ax=axes[0])\n",
    "    axes[0].set_title(f'Distribución de {col}')\n",
    "    axes[0].set_xlabel(col)\n",
    "    axes[0].set_ylabel('Frecuencia')\n",
    "    \n",
    "    # Boxplot\n",
    "    sns.boxplot(x=data[col], ax=axes[1])\n",
    "    axes[1].set_title(f'Boxplot de {col}')\n",
    "    axes[1].set_xlabel(col)\n",
    "    \n",
    "    plt.tight_layout()\n",
    "    plt.show()"
   ]
  },
  {
   "cell_type": "markdown",
   "id": "890f9c01",
   "metadata": {},
   "source": [
    "La distribución de la edad tiene un sesgo hacia la derecha, lo que significa que la mayoría de los clientes son relativamente jóvenes o de mediana edad.\n",
    "La mayor concentración de clientes parece estar en el rango de 30 a 40 años, con un pico significativo en torno a los 30 años.\n",
    "La frecuencia disminuye a medida que aumenta la edad, especialmente a partir de los 50 años."
   ]
  },
  {
   "cell_type": "code",
   "execution_count": null,
   "id": "8575b4f5",
   "metadata": {},
   "outputs": [],
   "source": [
    "numerical_data = data[numerical_columns]\n",
    "\n",
    "# Calcular la matriz de correlación\n",
    "correlation_matrix = numerical_data.corr()\n",
    "\n",
    "# Graficar el mapa de calor de la matriz de correlación\n",
    "plt.figure(figsize=(10, 8))\n",
    "sns.heatmap(correlation_matrix, annot=True, cmap='coolwarm', vmin=-1, vmax=1, square=True)\n",
    "plt.title('Matriz de Correlación entre Variables Numéricas')\n",
    "plt.show()"
   ]
  },
  {
   "cell_type": "markdown",
   "id": "f2d83275",
   "metadata": {},
   "source": [
    "La mayoría de los valores de correlación están cerca de 0, lo que indica que la mayoría de las variables numéricas no tienen una fuerte relación entre sí. Esto significa que estos atributos son, en su mayoría, independientes entre sí en términos de correlación lineal."
   ]
  },
  {
   "cell_type": "code",
   "execution_count": null,
   "id": "00db2aef",
   "metadata": {},
   "outputs": [],
   "source": [
    "# Seleccionar solo las columnas categóricas\n",
    "categorical_columns = data.select_dtypes(include=['object']).columns\n",
    "\n",
    "# Configurar el estilo de las gráficas\n",
    "plt.style.use('ggplot')\n",
    "\n",
    "# Gráfico de barras para cada variable categórica\n",
    "for col in categorical_columns:\n",
    "    plt.figure(figsize=(10, 4))\n",
    "    sns.countplot(data=data, x=col, order=data[col].value_counts().index)\n",
    "    plt.title(f'Distribución de la Variable Categórica: {col}')\n",
    "    plt.xlabel(col)\n",
    "    plt.ylabel('Frecuencia')\n",
    "    plt.xticks(rotation=45)\n",
    "    plt.tight_layout()\n",
    "    plt.show()"
   ]
  },
  {
   "cell_type": "code",
   "execution_count": null,
   "id": "9c1da285",
   "metadata": {},
   "outputs": [],
   "source": [
    "# Prueba de normalidad Shapiro-Wilk para cada columna numérica\n",
    "normality_results = {}\n",
    "for col in numerical_columns:\n",
    "    stat, p_value = stats.shapiro(data[col].dropna())\n",
    "    normality_results[col] = {'Statistic': stat, 'p-value': p_value}\n",
    "\n",
    "# Mostrar los resultados\n",
    "normality_df = pd.DataFrame(normality_results).T\n",
    "print(\"Resultados de la Prueba de Normalidad Shapiro-Wilk:\")\n",
    "print(normality_df)\n",
    "\n",
    "# Interpretación de resultados\n",
    "alpha = 0.05\n",
    "for col in normality_results:\n",
    "    if normality_results[col]['p-value'] > alpha:\n",
    "        print(f\"{col}: No se rechaza la hipótesis nula (distribución normal)\")\n",
    "    else:\n",
    "        print(f\"{col}: Se rechaza la hipótesis nula (no sigue una distribución normal)\")"
   ]
  },
  {
   "cell_type": "markdown",
   "id": "444d14ca",
   "metadata": {},
   "source": [
    "Statistic (Estadístico de Shapiro-Wilk):\n",
    "\n",
    "El estadístico de Shapiro-Wilk es un valor que indica el ajuste de los datos a una distribución normal. Este valor varía entre 0 y 1.\n",
    "Un valor cercano a 1 indica que los datos se ajustan bien a una distribución normal.\n",
    "Valores menores indican una menor adecuación de los datos a la normalidad. Sin embargo, por sí solo no es suficiente para rechazar o aceptar la hipótesis de normalidad; para eso se usa el p-value.\n",
    "p-value (Valor p):\n",
    "\n",
    "El p-value es el valor de probabilidad asociado a la prueba de hipótesis de normalidad.\n",
    "La hipótesis nula (H0) en esta prueba es que los datos tienen una distribución normal.\n",
    "Interpretación del p-value:\n",
    "Si el p-value es menor que el nivel de significancia (generalmente 0.05), se rechaza la hipótesis nula, indicando que los datos no siguen una distribución normal.\n",
    "Si el p-value es mayor o igual al nivel de significancia, no se rechaza la hipótesis nula, lo cual sugiere que los datos podrían seguir una distribución normal."
   ]
  },
  {
   "cell_type": "code",
   "execution_count": null,
   "id": "a74c4f84",
   "metadata": {},
   "outputs": [],
   "source": [
    "# Crear gráficos Q-Q para cada variable numérica\n",
    "for col in numerical_columns:\n",
    "    plt.figure(figsize=(3, 3))\n",
    "    stats.probplot(data[col].dropna(), dist=\"norm\", plot=plt)\n",
    "    plt.title(f'Gráfico Q-Q de {col}')\n",
    "    plt.xlabel('Cuantiles Teóricos')\n",
    "    plt.ylabel('Cuantiles de los Datos')\n",
    "    plt.grid(True)\n",
    "    plt.show()"
   ]
  },
  {
   "cell_type": "code",
   "execution_count": null,
   "id": "e5d97911",
   "metadata": {},
   "outputs": [],
   "source": [
    "# Binning de 'age'\n",
    "data['age_group'] = pd.cut(data['age'], bins=[0, 30, 60, 100], labels=['joven', 'adulto', 'mayor'])\n"
   ]
  },
  {
   "cell_type": "markdown",
   "id": "6080a127",
   "metadata": {},
   "source": [
    "Se utiliza la función pd.cut() de pandas para dividir la variable age en categorías o grupos de edades, y luego asigna una etiqueta (como joven, adulto, mayor) a cada grupo. Aquí está el desglose de cada parámetro:\n",
    "\n",
    "Explicación de los Parámetros\n",
    "data['age']: Es la columna que se va a categorizar. En este caso, la columna age contiene la edad de los clientes.\n",
    "\n",
    "bins=[0, 30, 60, 100]: Define los límites de los intervalos para categorizar las edades. Cada par de números en bins representa un rango que formará un grupo:\n",
    "\n",
    "[0, 30) agrupa las edades entre 0 y 30 años, sin incluir el 30.\n",
    "[30, 60) agrupa las edades entre 30 y 60 años, sin incluir el 60.\n",
    "[60, 100] agrupa las edades entre 60 y 100 años, incluyendo el 100.\n",
    "labels=['joven', 'adulto', 'mayor']: Asigna una etiqueta a cada intervalo. En este caso:\n",
    "\n",
    "joven se asignará a los valores de age entre 0 y 30 años.\n",
    "adulto se asignará a los valores de age entre 30 y 60 años.\n",
    "mayor se asignará a los valores de age entre 60 y 100 años.\n",
    "data['age_group']: Crea una nueva columna en el DataFrame llamada age_group que contendrá las etiquetas asignadas a cada cliente según su edad."
   ]
  },
  {
   "cell_type": "code",
   "execution_count": null,
   "id": "c6e62ca4",
   "metadata": {},
   "outputs": [],
   "source": [
    "# Log transform en 'balance'\n",
    "data['log_balance'] = np.log1p(data['balance'])  # np.log1p para evitar log(0)\n",
    "\n",
    "# Crear interacción entre 'balance' y 'loan'\n",
    "data['balance_loan_interaction'] = data['balance'] * data['loan'].apply(lambda x: 1 if x == 'yes' else 0)"
   ]
  },
  {
   "cell_type": "markdown",
   "id": "a3b24f8d",
   "metadata": {},
   "source": [
    "Un logaritmo es una forma de responder a la pregunta: “¿A qué número debo elevar una base para obtener un cierto valor?”\n",
    "\n",
    "Ejemplo Básico\n",
    "Si pensamos en el logaritmo en base 10, que es común en muchos contextos, el logaritmo nos dice cuántas veces tenemos que multiplicar el número 10 para obtener un valor específico.\n",
    "\n",
    "Por ejemplo:\n",
    "\n",
    "El logaritmo de 1000 en base 10 es 3, porque 10 elevado a la 3 es igual a 1000 (o sea, \n",
    "10\n",
    "×\n",
    "10\n",
    "×\n",
    "10\n",
    "=\n",
    "1000).\n",
    "De manera similar, el logaritmo de 100 en base 10 es 2, porque 10 elevado a la 2 es igual a 100.\n",
    "En notación matemática, esto se escribiría como:\n",
    "\n",
    "log\n",
    "⁡\n",
    "10\n",
    "(\n",
    "1000\n",
    ")\n",
    "=\n",
    "3\n",
    "log \n",
    "10\n",
    "​\n",
    " (1000)=3\n",
    "Lo que significa: “El logaritmo en base 10 de 1000 es 3”.\n",
    "\n",
    "¿Para Qué se Usa?\n",
    "Simplificar Números Grandes: Los logaritmos se usan para convertir números grandes en números más manejables. Por ejemplo, el logaritmo de un millón (1,000,000) en base 10 es 6, porque 10 elevado a la 6 es 1,000,000.\n",
    "\n",
    "Modelar Crecimiento y Decadencia: Los logaritmos son útiles para describir procesos donde el crecimiento o la disminución no es lineal, como el crecimiento de poblaciones, la intensidad del sonido, o el crecimiento de una inversión.\n",
    "\n"
   ]
  },
  {
   "cell_type": "markdown",
   "id": "a7ae4f7e",
   "metadata": {},
   "source": [
    "Transformación logarítmica:\n",
    "\n",
    "np.log1p() aplica el logaritmo natural a balance + 1. La expresión log1p(x) es equivalente a log(x + 1).\n",
    "Esta transformación es útil cuando quieres reducir la escala de los valores y hacer que la distribución sea más simétrica, especialmente si la variable balance está sesgada (por ejemplo, con una larga cola hacia la derecha)."
   ]
  },
  {
   "cell_type": "markdown",
   "id": "b6042e02",
   "metadata": {},
   "source": [
    "balance_loan_interaction en el DataFrame es una variable de interacción que combina la información del balance (balance) y del estado de préstamo (loan). Aquí se multiplica el balance por un valor binario basado en si el cliente tiene un préstamo personal."
   ]
  },
  {
   "cell_type": "code",
   "execution_count": null,
   "id": "0b717102",
   "metadata": {},
   "outputs": [],
   "source": [
    "data"
   ]
  },
  {
   "cell_type": "code",
   "execution_count": null,
   "id": "8f525f76",
   "metadata": {},
   "outputs": [],
   "source": [
    "data.info()"
   ]
  },
  {
   "cell_type": "code",
   "execution_count": null,
   "id": "e632b74d",
   "metadata": {},
   "outputs": [],
   "source": [
    "data.describe()"
   ]
  },
  {
   "cell_type": "code",
   "execution_count": null,
   "id": "01c37575",
   "metadata": {},
   "outputs": [],
   "source": [
    "# Seleccionar las variables numéricas a transformar con MinMaxScaler, excluyendo age, log_balance, y balance_loan_interaction\n",
    "numerical_features_to_scale = ['balance', 'duration', 'campaign', 'pdays', 'previous']\n",
    "\n",
    "# Aplicar Min-Max Scaling solo a las variables seleccionadas\n",
    "scaler = MinMaxScaler()\n",
    "scaled_numerical_data = pd.DataFrame(scaler.fit_transform(data[numerical_features_to_scale]), columns=numerical_features_to_scale)\n",
    "\n",
    "# Reemplazar -inf y NaN en log_balance con el mínimo valor de log_balance sin -inf ni NaN\n",
    "min_log_balance = data['log_balance'].replace([-np.inf, np.nan], np.nan).min()\n",
    "\n",
    "\n",
    "# Agregar log_balance y balance_loan_interaction al dataset de variables numéricas transformadas\n",
    "scaled_numerical_data['log_balance'] = data['log_balance'].replace([-np.inf, np.nan], min_log_balance)\n",
    "scaled_numerical_data['balance_loan_interaction'] = data['balance_loan_interaction']\n"
   ]
  },
  {
   "cell_type": "markdown",
   "id": "17a4a2ef",
   "metadata": {},
   "source": [
    "¿Por qué NaN y -inf?:\n",
    "\n",
    "NaN: Cuando balance es tan bajo que balance + 1 da un valor negativo (por ejemplo, para balance = -8019), np.log1p() devuelve NaN porque el logaritmo de un número negativo no está definido.\n",
    "-inf: Si el valor de balance es -1, entonces balance + 1 es 0, y np.log1p(0) es -inf porque el logaritmo de cero tiende a infinito negativo."
   ]
  },
  {
   "cell_type": "code",
   "execution_count": null,
   "id": "5f1e071d",
   "metadata": {},
   "outputs": [],
   "source": [
    "# Seleccionar variables categóricas, incluyendo age_group\n",
    "categorical_features = ['job', 'marital', 'education', 'default', 'housing', 'loan', 'contact', 'month', 'poutcome', 'age_group']\n",
    "\n",
    "# Aplicar One-Hot Encoding a las variables categóricas\n",
    "categorical_data = pd.get_dummies(data[categorical_features], drop_first=True)"
   ]
  },
  {
   "cell_type": "markdown",
   "id": "fbb3dc04",
   "metadata": {},
   "source": [
    "get_dummies convierte las variables categóricas en el DataFrame data a una representación numérica \"dummy\" o \"one-hot encoding\", lo cual es necesario para que los modelos de machine learning puedan procesarlas correctamente"
   ]
  },
  {
   "cell_type": "markdown",
   "id": "61835c6e",
   "metadata": {},
   "source": [
    "La multicolinealidad es una situación en la que dos o más variables independientes en un modelo de regresión están altamente correlacionadas entre sí, lo cual puede causar problemas en el análisis y en la interpretación de los resultados del modelo.\n",
    "\n",
    "Cuando existe multicolinealidad, significa que algunas variables independientes (predictores) en el modelo aportan información redundante, porque están tan relacionadas entre sí que prácticamente contienen la misma información. Esto puede hacer que el modelo sea menos estable y los coeficientes de las variables independientes menos confiables."
   ]
  },
  {
   "cell_type": "code",
   "execution_count": null,
   "id": "c0a72b1e",
   "metadata": {},
   "outputs": [],
   "source": [
    "# Seleccionar la variable objetivo\n",
    "target = data[['y']]\n",
    "\n",
    "# Crear el dataset final combinando numéricas, categóricas y la variable objetivo\n",
    "final_dataset = pd.concat([scaled_numerical_data, categorical_data, target], axis=1)"
   ]
  },
  {
   "cell_type": "code",
   "execution_count": null,
   "id": "9752eeab",
   "metadata": {},
   "outputs": [],
   "source": [
    "final_dataset.info()"
   ]
  },
  {
   "cell_type": "code",
   "execution_count": null,
   "id": "b7fa231d",
   "metadata": {},
   "outputs": [],
   "source": [
    "# Ver la distribución de la variable objetivo\n",
    "print(\"Distribución de la variable objetivo (y):\")\n",
    "print(data['y'].value_counts())"
   ]
  },
  {
   "cell_type": "code",
   "execution_count": null,
   "id": "b59a017a",
   "metadata": {},
   "outputs": [],
   "source": [
    "# Separar las características (X) y la variable objetivo (y)\n",
    "X = final_dataset.drop(columns=['y'])\n",
    "y = final_dataset['y'].apply(lambda x: 1 if x == 'yes' else 0)  # Convertir 'yes' a 1 y 'no' a 0 para SMOTE"
   ]
  },
  {
   "cell_type": "code",
   "execution_count": null,
   "id": "0aafee4d",
   "metadata": {},
   "outputs": [],
   "source": [
    "\n",
    "# Dividir el dataset en entrenamiento y prueba\n",
    "X_train, X_test, y_train, y_test = train_test_split(X, y, test_size=0.2, random_state=42, stratify=y)"
   ]
  },
  {
   "cell_type": "code",
   "execution_count": null,
   "id": "f4d0e6c0",
   "metadata": {},
   "outputs": [],
   "source": [
    "X_train.describe()"
   ]
  },
  {
   "cell_type": "code",
   "execution_count": null,
   "id": "7d85658b",
   "metadata": {},
   "outputs": [],
   "source": [
    "# Aplicar SMOTE solo al conjunto de entrenamiento imputado\n",
    "smote = SMOTE(random_state=42)\n",
    "X_train_balanced, y_train_balanced = smote.fit_resample(X_train, y_train)\n",
    "\n",
    "# Verificar la nueva distribución de la clase en el conjunto de entrenamiento balanceado\n",
    "print(\"Distribución después de aplicar SMOTE en el conjunto de entrenamiento:\")\n",
    "print(y_train_balanced.value_counts())"
   ]
  },
  {
   "cell_type": "markdown",
   "id": "a6fe5939",
   "metadata": {},
   "source": [
    "SMOTE (Synthetic Minority Over-sampling Technique) es una técnica utilizada para balancear conjuntos de datos desbalanceados mediante la creación de muestras sintéticas de la clase minoritaria. Es especialmente útil en problemas de clasificación donde una de las clases tiene muchas menos observaciones que la otra, lo que puede llevar a que los modelos de machine learning no aprendan correctamente las características de la clase minoritaria."
   ]
  },
  {
   "cell_type": "code",
   "execution_count": null,
   "id": "85e841b5",
   "metadata": {},
   "outputs": [],
   "source": [
    "# Entrenar el modelo de Árbol de Decisión\n",
    "clf = DecisionTreeClassifier(random_state=42)\n",
    "clf.fit(X_train_balanced, y_train_balanced)"
   ]
  },
  {
   "cell_type": "code",
   "execution_count": null,
   "id": "14a32eca",
   "metadata": {},
   "outputs": [],
   "source": [
    "# Predecir en el conjunto de prueba\n",
    "y_pred = clf.predict(X_test)\n"
   ]
  },
  {
   "cell_type": "code",
   "execution_count": null,
   "id": "28a99e34",
   "metadata": {},
   "outputs": [],
   "source": [
    "# Evaluación del modelo\n",
    "print(\"Matriz de Confusión:\")\n",
    "print(confusion_matrix(y_test, y_pred))\n",
    "print(\"\\nReporte de Clasificación:\")\n",
    "print(classification_report(y_test, y_pred))\n",
    "print(\"\\nExactitud (Accuracy):\", accuracy_score(y_test, y_pred))"
   ]
  },
  {
   "attachments": {
    "image-2.png": {
     "image/png": "[encoded data removed]"
    },
    "image.png": {
     "image/png": "[encoded data removed]"
    }
   },
   "cell_type": "markdown",
   "id": "7fbf43e7",
   "metadata": {},
   "source": [
    "matriz se interpreta de la siguiente manera:\n",
    "\n",
    "Clase 0 (predicciones negativas, probablemente la clase mayoritaria):\n",
    "\n",
    "* 7078: Verdaderos Negativos (TN): Casos que son realmente de la clase 0 y el modelo los predijo correctamente como clase 0.\n",
    "* 907: Falsos Positivos (FP): Casos que son realmente de la clase 1, pero el modelo los predijo incorrectamente como clase 0.\n",
    "\n",
    "Clase 1 (predicciones positivas, probablemente la clase minoritaria):\n",
    "\n",
    "* 493: Falsos Negativos (FN): Casos que son realmente de la clase 1, pero el modelo los predijo incorrectamente como clase 0.\n",
    "* 565: Verdaderos Positivos (TP): Casos que son realmente de la clase 1 y el modelo los predijo correctamente como clase 1.\n",
    "\n",
    "\n",
    "Precision:\n",
    "\n",
    "* Indica el porcentaje de predicciones positivas que son correctas.\n",
    "* Para la clase 0, la precisión es de 0.93. Esto significa que el 93% de las veces que el modelo predijo la clase 0, esa predicción fue correcta.\n",
    "* Para la clase 1, la precisión es de 0.38. Esto significa que el 38% de las veces que el modelo predijo la clase 1, esa predicción fue correcta.\n",
    "\n",
    "![image.png](attachment:image.png)\n",
    "\n",
    "\n",
    "Recall:\n",
    "\n",
    "* Indica el porcentaje de casos reales de una clase que fueron correctamente identificados.\n",
    "* Para la clase 0, el recall es de 0.89, lo que significa que el modelo identificó correctamente el 89% de todos los casos reales de clase 0.\n",
    "* Para la clase 1, el recall es de 0.53, lo que significa que el modelo identificó correctamente el 53% de todos los casos reales de clase 1.\n",
    "\n",
    "![image-2.png](attachment:image-2.png)\n",
    "\n",
    "\n",
    "F1-Score:\n",
    "\n",
    "* Es la media armónica de la precisión y el recall. El F1-score equilibra estas dos métricas y es especialmente útil en conjuntos de datos desbalanceados.\n",
    "* Para la clase 0, el F1-score es 0.91.\n",
    "* Para la clase 1, el F1-score es 0.45.\n",
    "\n",
    "\n",
    "Support:\n",
    "\n",
    "* Es el número de ocurrencias reales de cada clase en el conjunto de prueba.\n",
    "* La clase 0 tiene un soporte de 7985 casos, y la clase 1 tiene un soporte de 1058 casos."
   ]
  },
  {
   "cell_type": "code",
   "execution_count": null,
   "id": "1d969f4f",
   "metadata": {},
   "outputs": [],
   "source": [
    "# Configuración del tamaño del gráfico\n",
    "plt.figure(figsize=(20, 10))\n",
    "\n",
    "# Graficar el árbol\n",
    "plot_tree(clf, filled=True, feature_names=X_train_balanced.columns, class_names=['No', 'Yes'], rounded=True, proportion=True)\n",
    "\n",
    "# Mostrar el gráfico\n",
    "plt.show()"
   ]
  },
  {
   "cell_type": "code",
   "execution_count": null,
   "id": "8ac6e0c5",
   "metadata": {},
   "outputs": [],
   "source": [
    "# Definir el modelo base\n",
    "clf = DecisionTreeClassifier(random_state=42)\n",
    "\n",
    "# Definir los parámetros a evaluar\n",
    "param_grid = {\n",
    "    'max_depth': [3, 5, 10, None],\n",
    "    'min_samples_split': [2, 5, 10],\n",
    "    'min_samples_leaf': [1, 5, 10],\n",
    "    'max_features': ['auto', 'sqrt', 'log2', None],\n",
    "    'criterion': ['gini', 'entropy'],\n",
    "    'class_weight': [None, 'balanced']\n",
    "}\n",
    "\n",
    "# Configurar la búsqueda en cuadrícula\n",
    "grid_search = GridSearchCV(estimator=clf, param_grid=param_grid, cv=5, scoring='f1', n_jobs=-1, verbose=2)\n",
    "\n",
    "# Ejecutar la búsqueda\n",
    "grid_search.fit(X_train_balanced, y_train_balanced)\n",
    "\n",
    "# Mostrar los mejores parámetros y el mejor puntaje\n",
    "print(\"Mejores hiperparámetros:\", grid_search.best_params_)\n",
    "print(\"Mejor F1-score:\", grid_search.best_score_)"
   ]
  },
  {
   "cell_type": "markdown",
   "id": "6b4c2e44",
   "metadata": {},
   "source": [
    "Hiperparámetro\n",
    "\n",
    "### max_depth:\n",
    "\n",
    "Controla la profundidad máxima del árbol de decisión.\n",
    "Valores: [3, 5, 10, None]\n",
    "3, 5, 10: Limita el árbol a esas profundidades específicas.\n",
    "None: No limita la profundidad, permitiendo que el árbol crezca hasta que todas las hojas sean puras o hasta que se alcance min_samples_split.\n",
    "Propósito: Limitar la profundidad puede ayudar a evitar el sobreajuste (overfitting) al reducir la complejidad del árbol.\n",
    "\n",
    "### min_samples_split:\n",
    "Define el número mínimo de muestras necesarias para dividir un nodo.\n",
    "Valores: [2, 5, 10]\n",
    "2: Permite dividir un nodo si tiene al menos 2 muestras.\n",
    "5, 10: Requiere al menos 5 o 10 muestras para dividir un nodo.\n",
    "Propósito: Ayuda a controlar la cantidad de nodos en el árbol. Valores más altos pueden prevenir el sobreajuste al impedir que el modelo cree demasiados nodos en ramas con pocas muestras.\n",
    "\n",
    "###  min_samples_leaf:\n",
    "Define el número mínimo de muestras que debe tener una hoja.\n",
    "Valores: [1, 5, 10]\n",
    "1: Permite hojas con una sola muestra.\n",
    "5, 10: Requiere que las hojas tengan al menos 5 o 10 muestras.\n",
    "Propósito: Ayuda a suavizar el modelo. Establecer un número mínimo más alto evita que el modelo cree hojas para casos aislados, reduciendo el riesgo de sobreajuste.\n",
    "\n",
    "###  max_features:\n",
    "Define el número máximo de características a considerar al buscar la mejor división.\n",
    "Valores: ['auto', 'sqrt', 'log2', None]\n",
    "'auto': Usa todas las características (en este caso es equivalente a None para DecisionTreeClassifier).\n",
    "'sqrt': Usa la raíz cuadrada del número total de características.\n",
    "'log2': Usa el logaritmo en base 2 del número total de características.\n",
    "None: Usa todas las características disponibles.\n",
    "Propósito: Limitar el número de características para cada división puede hacer que el modelo sea más robusto y menos propenso a ajustarse demasiado a una sola característica. Este hiperparámetro es especialmente útil para árboles en modelos de conjunto (ensemble) como Random Forest.\n",
    "\n",
    "### criterion:\n",
    "Define la métrica que el árbol de decisión utiliza para evaluar la calidad de una división.\n",
    "Valores: ['gini', 'entropy']\n",
    "'gini': Utiliza el índice de Gini para medir la \"impureza\" de las divisiones. Prefiere ramas con clases puras.\n",
    "'entropy': Utiliza la entropía como criterio de impureza, que proviene de la teoría de la información. Tiende a crear árboles ligeramente más profundos.\n",
    "Propósito: El criterio afecta la estructura del árbol; ambos son métodos para medir la calidad de una división, aunque producen resultados similares en la mayoría de los casos.\n",
    "\n",
    "### class_weight:\n",
    "Ajusta el peso de cada clase para contrarrestar el desbalance de clases.\n",
    "Valores: [None, 'balanced']\n",
    "None: No ajusta los pesos; todas las clases tienen el mismo peso.\n",
    "'balanced': Ajusta automáticamente los pesos de las clases en función de su frecuencia, dándole mayor peso a la clase minoritaria.\n",
    "Propósito: En problemas de clasificación desbalanceada, establecer class_weight='balanced' ayuda al modelo a prestar más atención a la clase minoritaria, mejorando el rendimiento en esa clase."
   ]
  },
  {
   "cell_type": "code",
   "execution_count": null,
   "id": "17283b30",
   "metadata": {},
   "outputs": [],
   "source": [
    "# Definir el modelo de árbol de decisión con los mejores hiperparámetros y max_depth=10\n",
    "clf = DecisionTreeClassifier(\n",
    "    criterion='entropy',\n",
    "    max_depth=10,\n",
    "    max_features='sqrt',\n",
    "    min_samples_leaf=1,\n",
    "    min_samples_split=2,\n",
    "    class_weight=None,\n",
    "    random_state=42\n",
    ")\n",
    "\n"
   ]
  },
  {
   "cell_type": "code",
   "execution_count": null,
   "id": "4198824a",
   "metadata": {},
   "outputs": [],
   "source": [
    "# Entrenar el modelo\n",
    "clf.fit(X_train_balanced, y_train_balanced)\n"
   ]
  },
  {
   "cell_type": "code",
   "execution_count": null,
   "id": "f0e8d75e",
   "metadata": {},
   "outputs": [],
   "source": [
    "# Predecir en el conjunto de prueba\n",
    "y_pred = clf.predict(X_test)\n",
    "\n",
    "# Evaluación del modelo\n",
    "print(\"Matriz de Confusión:\")\n",
    "print(confusion_matrix(y_test, y_pred))\n",
    "print(\"\\nReporte de Clasificación:\")\n",
    "print(classification_report(y_test, y_pred))\n",
    "print(\"\\nExactitud (Accuracy):\", accuracy_score(y_test, y_pred))"
   ]
  },
  {
   "cell_type": "markdown",
   "id": "d0fe8494",
   "metadata": {},
   "source": [
    "* En el nuevo modelo, el recall de la clase 1 mejoró, lo que significa que el modelo es mejor identificando los casos positivos de la clase 1. Esto es útil si el objetivo es captar más de esta clase.\n",
    "* Sin embargo, esto se logró a costa de reducir la precisión y recall de la clase 0 y reducir ligeramente el accuracy general.\n",
    "* La mejora en el recall de la clase 1 puede ser deseable en escenarios donde es crucial detectar la clase minoritaria, incluso si eso significa un ligero sacrificio en la precisión general."
   ]
  },
  {
   "cell_type": "code",
   "execution_count": null,
   "id": "b3f013e1",
   "metadata": {},
   "outputs": [],
   "source": [
    "# Configuración del tamaño del gráfico\n",
    "plt.figure(figsize=(20, 10))\n",
    "\n",
    "# Graficar el árbol\n",
    "plot_tree(clf, filled=True, feature_names=X_train_balanced.columns, class_names=['No', 'Yes'], rounded=True, proportion=True)\n",
    "\n",
    "# Mostrar el gráfico\n",
    "plt.show()"
   ]
  },
  {
   "cell_type": "code",
   "execution_count": null,
   "id": "0872b825",
   "metadata": {},
   "outputs": [],
   "source": [
    "# Obtener las probabilidades de predicción para la clase positiva\n",
    "y_pred_proba = clf.predict_proba(X_test)[:, 1]\n",
    "\n",
    "# Calcular la Curva ROC y AUC\n",
    "fpr, tpr, thresholds = roc_curve(y_test, y_pred_proba)\n",
    "roc_auc = auc(fpr, tpr)\n",
    "\n",
    "# Graficar la Curva ROC\n",
    "plt.figure(figsize=(10, 6))\n",
    "plt.plot(fpr, tpr, color='blue', label=f'Curva ROC (AUC = {roc_auc:.2f})')\n",
    "plt.plot([0, 1], [0, 1], color='gray', linestyle='--')  # Línea de referencia\n",
    "plt.xlim([0.0, 1.0])\n",
    "plt.ylim([0.0, 1.05])\n",
    "plt.xlabel('Tasa de Falsos Positivos (FPR)')\n",
    "plt.ylabel('Tasa de Verdaderos Positivos (TPR)')\n",
    "plt.title('Curva ROC del Modelo de Árbol de Decisión')\n",
    "plt.legend(loc=\"lower right\")\n",
    "plt.show()"
   ]
  },
  {
   "cell_type": "markdown",
   "id": "604b420b",
   "metadata": {},
   "source": [
    "La Curva ROC (Receiver Operating Characteristic) es una herramienta gráfica utilizada para evaluar el rendimiento de un modelo de clasificación binaria. \n",
    "\n",
    "La curva ROC representa la relación entre dos métricas:\n",
    "\n",
    "* FPR (False Positive Rate) - Tasa de Falsos Positivos:\n",
    "\n",
    "Indica la proporción de casos negativos que fueron clasificados incorrectamente como positivos.\n",
    "Va en el eje X de la gráfica.\n",
    "Valores bajos de FPR indican que el modelo es bueno para evitar clasificar incorrectamente los casos negativos.\n",
    "\n",
    "* TPR (True Positive Rate) - Tasa de Verdaderos Positivos o Sensibilidad (también llamado Recall):\n",
    "\n",
    "Indica la proporción de casos positivos que fueron clasificados correctamente.\n",
    "\n",
    "Va en el eje Y de la gráfica.\n",
    "Valores altos de TPR indican que el modelo es bueno para detectar casos positivos."
   ]
  },
  {
   "cell_type": "markdown",
   "id": "f161ff3d",
   "metadata": {},
   "source": [
    "Interpretación de la Curva ROC\n",
    "\n",
    "## Línea Diagonal (Línea de Azar):\n",
    "\n",
    "* La línea diagonal punteada representa un modelo que clasifica aleatoriamente, donde FPR y TPR son iguales.\n",
    "* Un modelo que cae sobre esta línea no tiene capacidad predictiva y no es mejor que un modelo de predicción aleatoria.\n",
    "\n",
    "## Curva ROC del Modelo:\n",
    "\n",
    "* La curva ROC muestra cómo cambian la TPR y la FPR a medida que el umbral de decisión del modelo cambia.\n",
    "* Un modelo perfecto alcanzaría la esquina superior izquierda (FPR = 0, TPR = 1), ya que esto indica una TPR del 100% y una FPR del 0%.\n",
    "## Área Bajo la Curva (AUC - Area Under the Curve):\n",
    "* El valor AUC mide el área bajo la curva ROC.\n",
    "* AUC varía entre 0 y 1:\n",
    "* AUC = 1: Modelo perfecto.\n",
    "* AUC = 0.5: Modelo sin capacidad de discriminación (equivalente a una clasificación aleatoria).\n",
    "* AUC < 0.5: Indica un modelo peor que uno aleatorio, lo que rara vez sucede.\n",
    "* En este caso, el AUC es 0.81, lo que indica que el modelo tiene un buen desempeño, ya que 0.81 es significativamente mayor que 0.5."
   ]
  },
  {
   "cell_type": "code",
   "execution_count": null,
   "id": "61c83626",
   "metadata": {},
   "outputs": [],
   "source": [
    "# Obtener las probabilidades de predicción para la clase positiva\n",
    "y_pred_proba = clf.predict_proba(X_test)[:, 1]\n",
    "\n",
    "# Calcular la curva de precisión-recall y AUC para la clase positiva (y = 1)\n",
    "precision, recall, thresholds = precision_recall_curve(y_test, y_pred_proba)\n",
    "average_precision = average_precision_score(y_test, y_pred_proba)\n",
    "\n",
    "# Graficar la curva de precisión-recall para la clase positiva\n",
    "plt.figure(figsize=(10, 6))\n",
    "plt.plot(recall, precision, color='blue', label=f'Clase Positiva (AP = {average_precision:.2f})')\n",
    "plt.xlabel('Recall')\n",
    "plt.ylabel('Precisión')\n",
    "plt.title('Curva de Precisión-Recall para la Clase Positiva')\n",
    "plt.legend(loc=\"lower left\")\n",
    "plt.show()\n"
   ]
  },
  {
   "cell_type": "markdown",
   "id": "cc1fb39d",
   "metadata": {},
   "source": [
    "Esta es una Curva de Precisión-Recall para la clase positiva de un modelo de clasificación. Esta curva es útil para evaluar el rendimiento del modelo, especialmente en problemas con clases desbalanceadas."
   ]
  },
  {
   "cell_type": "markdown",
   "id": "76e91b43",
   "metadata": {},
   "source": [
    "Interpretación de la Curva de Precisión-Recall\n",
    "* La curva muestra cómo varían la precisión y el recall a medida que cambia el umbral de decisión del modelo.\n",
    "* A medida que el recall aumenta (es decir, el modelo identifica más casos positivos correctamente), la precisión tiende a disminuir. Esto ocurre porque, para lograr un mayor recall, el modelo empieza a clasificar más casos como positivos, lo que también puede aumentar los falsos positivos.\n",
    "* La curva comienza con una alta precisión cuando el recall es bajo, y a medida que se incrementa el recall, la precisión disminuye.\n",
    "\n",
    "\n",
    "* La curva muestra que el modelo tiene una alta precisión cuando el recall es bajo, pero a medida que intenta capturar más casos positivos (aumentando el recall), la precisión disminuye de manera significativa.\n",
    "* El Average Precision (AP) de 0.41 sugiere que el modelo tiene un rendimiento moderado en términos de mantener precisión y recall balanceados."
   ]
  }
 ],
 "metadata": {
  "kernelspec": {
   "display_name": "Python 3 (ipykernel)",
   "language": "python",
   "name": "python3"
  },
  "language_info": {
   "codemirror_mode": {
    "name": "ipython",
    "version": 3
   },
   "file_extension": ".py",
   "mimetype": "text/x-python",
   "name": "python",
   "nbconvert_exporter": "python",
   "pygments_lexer": "ipython3",
   "version": "3.12.4"
  }
 },
 "nbformat": 4,
 "nbformat_minor": 5
}
