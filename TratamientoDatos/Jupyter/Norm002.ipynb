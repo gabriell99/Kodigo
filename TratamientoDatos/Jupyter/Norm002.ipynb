{
 "cells": [
  {
   "cell_type": "code",
   "execution_count": 5,
   "id": "3bad94b5",
   "metadata": {},
   "outputs": [
    {
     "name": "stdout",
     "output_type": "stream",
     "text": [
      "DataFrame Original:\n",
      "    Feature1  Feature2  Feature3\n",
      "0        10       500      0.50\n",
      "1        20       300      0.75\n",
      "2        30       100      0.25\n",
      "3        40       400      0.10\n",
      "4        50       200      0.60\n",
      "5        13       300      0.13\n",
      "6        30       350      0.30\n",
      "7        24       400      0.24\n",
      "\n",
      "Gabriel Guzmán - c-G.G\n",
      "DataFrame Normalizado [0, 1]:\n",
      "    Feature1  Feature2  Feature3\n",
      "0     0.000     1.000  0.615385\n",
      "1     0.250     0.500  1.000000\n",
      "2     0.500     0.000  0.230769\n",
      "3     0.750     0.750  0.000000\n",
      "4     1.000     0.250  0.769231\n",
      "5     0.075     0.500  0.046154\n",
      "6     0.500     0.625  0.307692\n",
      "7     0.350     0.750  0.215385\n"
     ]
    }
   ],
   "source": [
    "import pandas as pd\n",
    "import numpy as np\n",
    "\n",
    "# Crear un DataFrame con múltiples características numéricas\n",
    "data = {\n",
    "    'Feature1': [10, 20, 30, 40, 50, 13, 30, 24],\n",
    "    'Feature2': [500, 300, 100, 400, 200, 300, 350, 400],\n",
    "    'Feature3': [0.5, 0.75, 0.25, 0.1, 0.6, .13, .30, .24]\n",
    "}\n",
    "df = pd.DataFrame(data)\n",
    "\n",
    "# Función de normalización Min-Max calculando el min y max de cada columna\n",
    "def min_max_normalization(column):\n",
    "    min_value = column.min()\n",
    "    max_value = column.max()\n",
    "    return (column - min_value) / (max_value - min_value)\n",
    "\n",
    "# Aplicar la normalización Min-Max a todas las columnas numéricas del DataFrame\n",
    "df_normalized = df.apply(lambda col: min_max_normalization(col) if np.issubdtype(col.dtype, np.number) else col)\n",
    "\n",
    "# Mostrar el DataFrame original y el normalizado\n",
    "print(\"DataFrame Original:\\n\", df)\n",
    "print(\"\\nGabriel Guzmán - c-G.G\\nDataFrame Normalizado [0, 1]:\\n\", df_normalized)"
   ]
  },
  {
   "cell_type": "code",
   "execution_count": null,
   "id": "786579f6-4096-4149-8195-2b49e8e3b29c",
   "metadata": {},
   "outputs": [],
   "source": []
  }
 ],
 "metadata": {
  "kernelspec": {
   "display_name": "Python 3 (ipykernel)",
   "language": "python",
   "name": "python3"
  },
  "language_info": {
   "codemirror_mode": {
    "name": "ipython",
    "version": 3
   },
   "file_extension": ".py",
   "mimetype": "text/x-python",
   "name": "python",
   "nbconvert_exporter": "python",
   "pygments_lexer": "ipython3",
   "version": "3.12.5"
  }
 },
 "nbformat": 4,
 "nbformat_minor": 5
}
