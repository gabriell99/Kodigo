{
 "cells": [
  {
   "cell_type": "code",
   "execution_count": 1,
   "id": "6d4fbf43",
   "metadata": {},
   "outputs": [
    {
     "name": "stdout",
     "output_type": "stream",
     "text": [
      "Columna: Feature1\n",
      "Valor Mínimo: -100\n",
      "Valor Máximo: 150\n",
      "Rango: 250\n",
      "-----------------------------\n",
      "Columna: Feature2\n",
      "Valor Mínimo: -1000\n",
      "Valor Máximo: 1000\n",
      "Rango: 2000\n",
      "-----------------------------\n",
      "Columna: Feature3\n",
      "Valor Mínimo: -1.0\n",
      "Valor Máximo: 0.9\n",
      "Rango: 1.9\n",
      "-----------------------------\n",
      "DataFrame Original:\n",
      "    Feature1  Feature2  Feature3\n",
      "0      -100      1000      -0.5\n",
      "1       -50       500      -0.1\n",
      "2         0         0       0.3\n",
      "3        50      -500       0.8\n",
      "4       100     -1000      -1.0\n",
      "5       150       750       0.9\n",
      "6       -25      -250       0.1\n",
      "7        75       250      -0.3\n",
      "\n",
      "DataFrame Normalizado [0, 1]:\n",
      "    Feature1  Feature2  Feature3\n",
      "0       0.0     1.000  0.263158\n",
      "1       0.2     0.750  0.473684\n",
      "2       0.4     0.500  0.684211\n",
      "3       0.6     0.250  0.947368\n",
      "4       0.8     0.000  0.000000\n",
      "5       1.0     0.875  1.000000\n",
      "6       0.3     0.375  0.578947\n",
      "7       0.7     0.625  0.368421\n"
     ]
    }
   ],
   "source": [
    "import pandas as pd\n",
    "import numpy as np\n",
    "\n",
    "# Crear un DataFrame con más filas y que incluya números negativos\n",
    "data = {\n",
    "    'Feature1': [-100, -50, 0, 50, 100, 150, -25, 75],\n",
    "    'Feature2': [1000, 500, 0, -500, -1000, 750, -250, 250],\n",
    "    'Feature3': [-0.5, -0.1, 0.3, 0.8, -1.0, 0.9, 0.1, -0.3]\n",
    "}\n",
    "\n",
    "df = pd.DataFrame(data)\n",
    "\n",
    "# Función de normalización Min-Max calculando el min y max de cada columna\n",
    "def min_max_normalization(column):\n",
    "    min_value = column.min()\n",
    "    max_value = column.max()\n",
    "    range_value = max_value - min_value\n",
    "    \n",
    "    # Imprimir el mínimo, máximo y rango de la columna\n",
    "    print(f\"Columna: {column.name}\")\n",
    "    print(f\"Valor Mínimo: {min_value}\")\n",
    "    print(f\"Valor Máximo: {max_value}\")\n",
    "    print(f\"Rango: {range_value}\")\n",
    "    print(\"-----------------------------\")\n",
    "    \n",
    "    return (column - min_value) / range_value\n",
    "\n",
    "# Aplicar la normalización Min-Max a todas las columnas numéricas del DataFrame\n",
    "df_normalized = df.apply(lambda col: min_max_normalization(col) if np.issubdtype(col.dtype, np.number) else col)\n",
    "\n",
    "# Mostrar el DataFrame original y el normalizado\n",
    "print(\"DataFrame Original:\\n\", df)\n",
    "print(\"\\nDataFrame Normalizado [0, 1]:\\n\", df_normalized)\n"
   ]
  }
 ],
 "metadata": {
  "kernelspec": {
   "display_name": "Python 3 (ipykernel)",
   "language": "python",
   "name": "python3"
  },
  "language_info": {
   "codemirror_mode": {
    "name": "ipython",
    "version": 3
   },
   "file_extension": ".py",
   "mimetype": "text/x-python",
   "name": "python",
   "nbconvert_exporter": "python",
   "pygments_lexer": "ipython3",
   "version": "3.10.4"
  }
 },
 "nbformat": 4,
 "nbformat_minor": 5
}
