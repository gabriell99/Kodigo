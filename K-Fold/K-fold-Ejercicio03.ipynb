{
 "cells": [
  {
   "cell_type": "code",
   "execution_count": 1,
   "id": "96589e5d",
   "metadata": {},
   "outputs": [],
   "source": [
    "import pandas as pd\n",
    "import numpy as np\n",
    "from sklearn.model_selection import KFold, StratifiedKFold, cross_val_score\n",
    "from sklearn import linear_model, tree, ensemble"
   ]
  },
  {
   "cell_type": "code",
   "execution_count": 17,
   "id": "f69af0f1",
   "metadata": {},
   "outputs": [
    {
     "name": "stdout",
     "output_type": "stream",
     "text": [
      "Filas y Columnas de los datos: (891, 5) y de la variable target: (891,)\n"
     ]
    },
    {
     "data": {
      "text/html": [
       "<div>\n",
       "<style scoped>\n",
       "    .dataframe tbody tr th:only-of-type {\n",
       "        vertical-align: middle;\n",
       "    }\n",
       "\n",
       "    .dataframe tbody tr th {\n",
       "        vertical-align: top;\n",
       "    }\n",
       "\n",
       "    .dataframe thead th {\n",
       "        text-align: right;\n",
       "    }\n",
       "</style>\n",
       "<table border=\"1\" class=\"dataframe\">\n",
       "  <thead>\n",
       "    <tr style=\"text-align: right;\">\n",
       "      <th></th>\n",
       "      <th>PassengerId</th>\n",
       "      <th>Pclass</th>\n",
       "      <th>SibSp</th>\n",
       "      <th>Parch</th>\n",
       "      <th>Fare</th>\n",
       "      <th>Survived</th>\n",
       "    </tr>\n",
       "  </thead>\n",
       "  <tbody>\n",
       "    <tr>\n",
       "      <th>0</th>\n",
       "      <td>1</td>\n",
       "      <td>3</td>\n",
       "      <td>1</td>\n",
       "      <td>0</td>\n",
       "      <td>7.2500</td>\n",
       "      <td>0</td>\n",
       "    </tr>\n",
       "    <tr>\n",
       "      <th>1</th>\n",
       "      <td>2</td>\n",
       "      <td>1</td>\n",
       "      <td>1</td>\n",
       "      <td>0</td>\n",
       "      <td>71.2833</td>\n",
       "      <td>1</td>\n",
       "    </tr>\n",
       "    <tr>\n",
       "      <th>2</th>\n",
       "      <td>3</td>\n",
       "      <td>3</td>\n",
       "      <td>0</td>\n",
       "      <td>0</td>\n",
       "      <td>7.9250</td>\n",
       "      <td>1</td>\n",
       "    </tr>\n",
       "    <tr>\n",
       "      <th>3</th>\n",
       "      <td>4</td>\n",
       "      <td>1</td>\n",
       "      <td>1</td>\n",
       "      <td>0</td>\n",
       "      <td>53.1000</td>\n",
       "      <td>1</td>\n",
       "    </tr>\n",
       "    <tr>\n",
       "      <th>4</th>\n",
       "      <td>5</td>\n",
       "      <td>3</td>\n",
       "      <td>0</td>\n",
       "      <td>0</td>\n",
       "      <td>8.0500</td>\n",
       "      <td>0</td>\n",
       "    </tr>\n",
       "  </tbody>\n",
       "</table>\n",
       "</div>"
      ],
      "text/plain": [
       "   PassengerId  Pclass  SibSp  Parch     Fare  Survived\n",
       "0            1       3      1      0   7.2500         0\n",
       "1            2       1      1      0  71.2833         1\n",
       "2            3       3      0      0   7.9250         1\n",
       "3            4       1      1      0  53.1000         1\n",
       "4            5       3      0      0   8.0500         0"
      ]
     },
     "execution_count": 17,
     "metadata": {},
     "output_type": "execute_result"
    }
   ],
   "source": [
    "# Cargar el conjunto de datos Titanic\n",
    "train_data = pd.read_csv('./Titanic/train.csv')\n",
    "\n",
    "# Eliminar filas con valores faltantes en la columna 'Survived'\n",
    "train_data.dropna(axis=0, subset=['Survived'], inplace=True)\n",
    "\n",
    "# Definir la variable objetivo (target)\n",
    "y = train_data.Survived  # Asigna la columna 'Survived' como la variable objetivo\n",
    "\n",
    "# Eliminar la columna 'Survived' del conjunto de características (X)\n",
    "train_data.drop(['Survived'], axis=1, inplace=True)\n",
    "\n",
    "# Eliminar la columna 'Age' del conjunto de características (X)\n",
    "train_data.drop(['Age'], axis=1, inplace=True)\n",
    "\n",
    "# Seleccionar solo las columnas numéricas\n",
    "numeric_cols = [cname for cname in train_data.columns if train_data[cname].dtype in ['int64', 'float64']]\n",
    "\n",
    "# Crear el conjunto de características (X) utilizando solo columnas numéricas\n",
    "X = train_data[numeric_cols].copy()\n",
    "\n",
    "# Mostrar las dimensiones de X (características) y y (target)\n",
    "print(\"Filas y Columnas de los datos: {} y de la variable target: {}\".format(X.shape, y.shape))\n",
    "\n",
    "# Mostrar las primeras filas del conjunto de datos combinado (X y y)\n",
    "pd.concat([X, y], axis=1).head()"
   ]
  },
  {
   "cell_type": "code",
   "execution_count": 7,
   "id": "6900dc94",
   "metadata": {},
   "outputs": [
    {
     "name": "stdout",
     "output_type": "stream",
     "text": [
      "Fold:1, Train set: 712, Test set:179\n",
      "Fold:2, Train set: 713, Test set:178\n",
      "Fold:3, Train set: 713, Test set:178\n",
      "Fold:4, Train set: 713, Test set:178\n",
      "Fold:5, Train set: 713, Test set:178\n"
     ]
    }
   ],
   "source": [
    "kf =KFold(n_splits=5, shuffle=True, random_state=42)\n",
    "\n",
    "cnt = 1\n",
    "\n",
    "for train_index, test_index in kf.split(X, y):\n",
    "    print(f'Fold:{cnt}, Train set: {len(train_index)}, Test set:{len(test_index)}')\n",
    "    cnt += 1"
   ]
  },
  {
   "cell_type": "markdown",
   "id": "ab6df1ec",
   "metadata": {},
   "source": [
    "KFold divide los datos en 5 conjuntos o folds.\n",
    "En cada iteración del bucle:\n",
    "\n",
    "4 folds se utilizan para entrenamiento.\n",
    "\n",
    "1 fold se utiliza para prueba.\n",
    "\n",
    "El tamaño de los conjuntos de entrenamiento y prueba se imprime para cada fold."
   ]
  },
  {
   "cell_type": "code",
   "execution_count": 8,
   "id": "86744644",
   "metadata": {},
   "outputs": [],
   "source": [
    "def rmse(score):\n",
    "    rmse = np.sqrt(-score)\n",
    "    print(f'rmse= {\"{:.2f}\".format(rmse)}')"
   ]
  },
  {
   "cell_type": "markdown",
   "id": "5c8b2245",
   "metadata": {},
   "source": [
    "Esta línea define una función llamada rmse que toma un parámetro llamado score (el cual normalmente se espera que sea un valor de error negativo, como el error cuadrático medio negativo)."
   ]
  },
  {
   "cell_type": "code",
   "execution_count": 18,
   "id": "c58b6d84",
   "metadata": {},
   "outputs": [
    {
     "name": "stdout",
     "output_type": "stream",
     "text": [
      "Scores por fold: [-0.20302482 -0.20808383 -0.20581155 -0.2097774  -0.21237468]\n",
      "rmse= 0.46\n"
     ]
    }
   ],
   "source": [
    "score = cross_val_score(linear_model.LinearRegression(), X, y, cv= kf, scoring=\"neg_mean_squared_error\")\n",
    "print(f'Scores por fold: {score}')\n",
    "rmse(score.mean())"
   ]
  },
  {
   "cell_type": "code",
   "execution_count": 19,
   "id": "d2cc8dce",
   "metadata": {},
   "outputs": [
    {
     "name": "stdout",
     "output_type": "stream",
     "text": [
      "Scores por fold: [-0.3575419  -0.30898876 -0.36516854 -0.39325843 -0.39325843]\n",
      "rmse= 0.60\n"
     ]
    }
   ],
   "source": [
    "score = cross_val_score(tree.DecisionTreeRegressor(random_state= 42), X, y, cv=kf, scoring=\"neg_mean_squared_error\")\n",
    "print(f'Scores por fold: {score}')\n",
    "rmse(score.mean())"
   ]
  },
  {
   "cell_type": "code",
   "execution_count": 20,
   "id": "e872ffa1",
   "metadata": {},
   "outputs": [
    {
     "name": "stdout",
     "output_type": "stream",
     "text": [
      "Scores por fold: [-0.22028045 -0.21442472 -0.22019831 -0.22728933 -0.24261404]\n",
      "rmse= 0.47\n"
     ]
    }
   ],
   "source": [
    "score = cross_val_score(ensemble.RandomForestRegressor(random_state= 42), X, y, cv= kf, scoring=\"neg_mean_squared_error\")\n",
    "print(f'Scores por fold: {score}')\n",
    "rmse(score.mean())"
   ]
  },
  {
   "cell_type": "code",
   "execution_count": 21,
   "id": "4401d0b0",
   "metadata": {},
   "outputs": [
    {
     "name": "stdout",
     "output_type": "stream",
     "text": [
      "Cantidad de Arboles: 50\n",
      "rmse= 0.48\n",
      "Cantidad de Arboles: 100\n",
      "rmse= 0.47\n",
      "Cantidad de Arboles: 150\n",
      "rmse= 0.47\n",
      "Cantidad de Arboles: 200\n",
      "rmse= 0.47\n",
      "Cantidad de Arboles: 250\n",
      "rmse= 0.47\n",
      "Cantidad de Arboles: 300\n",
      "rmse= 0.47\n",
      "Cantidad de Arboles: 350\n",
      "rmse= 0.47\n",
      "Cantidad de Arboles: 700\n",
      "rmse= 0.47\n",
      "Cantidad de Arboles: 1000\n",
      "rmse= 0.47\n"
     ]
    }
   ],
   "source": [
    "estimators = [50, 100, 150, 200, 250, 300, 350, 700, 1000]\n",
    "\n",
    "for count in estimators:\n",
    "    score = cross_val_score(ensemble.RandomForestRegressor(n_estimators= count, random_state= 42), X, y, cv= kf, scoring=\"neg_mean_squared_error\")\n",
    "    print(f'Cantidad de Arboles: {count}')\n",
    "    rmse(score.mean())"
   ]
  }
 ],
 "metadata": {
  "kernelspec": {
   "display_name": "Python 3 (ipykernel)",
   "language": "python",
   "name": "python3"
  },
  "language_info": {
   "codemirror_mode": {
    "name": "ipython",
    "version": 3
   },
   "file_extension": ".py",
   "mimetype": "text/x-python",
   "name": "python",
   "nbconvert_exporter": "python",
   "pygments_lexer": "ipython3",
   "version": "3.10.4"
  }
 },
 "nbformat": 4,
 "nbformat_minor": 5
}
