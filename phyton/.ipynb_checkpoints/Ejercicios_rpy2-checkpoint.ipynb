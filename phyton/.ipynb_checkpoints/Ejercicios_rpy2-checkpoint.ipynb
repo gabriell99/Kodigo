{
 "cells": [
  {
   "cell_type": "markdown",
   "id": "33f92e6d-a75a-47b7-8cc5-cc2070bea753",
   "metadata": {},
   "source": [
    "# Ejercicios utilizando rpy2"
   ]
  },
  {
   "cell_type": "markdown",
   "id": "a6caa58a-02fd-429b-8f2b-99c0bbb6117e",
   "metadata": {},
   "source": [
    "## Ejercicio 1: Cálculo estadístico básico en R desde Python\n",
    "En este ejercicio, usaremos rpy2 para ejecutar una operación estadística básica en R, como la media y desviación estándar de un conjunto de datos."
   ]
  },
  {
   "cell_type": "code",
   "execution_count": 2,
   "id": "fdb051b3-d281-433e-9a25-6298552e6dc0",
   "metadata": {},
   "outputs": [
    {
     "name": "stdout",
     "output_type": "stream",
     "text": [
      "Collecting rpy2Note: you may need to restart the kernel to use updated packages.\n",
      "\n",
      "  Downloading rpy2-3.5.16.tar.gz (220 kB)\n",
      "  Installing build dependencies: started\n",
      "  Installing build dependencies: finished with status 'done'\n",
      "  Getting requirements to build wheel: started\n",
      "  Getting requirements to build wheel: finished with status 'done'\n",
      "  Preparing metadata (pyproject.toml): started\n",
      "  Preparing metadata (pyproject.toml): finished with status 'done'\n",
      "Requirement already satisfied: cffi>=1.15.1 in c:\\users\\gabriel.guzman\\appdata\\local\\programs\\python\\python312\\lib\\site-packages (from rpy2) (1.17.0)\n",
      "Requirement already satisfied: jinja2 in c:\\users\\gabriel.guzman\\appdata\\local\\programs\\python\\python312\\lib\\site-packages (from rpy2) (3.1.4)\n",
      "Collecting tzlocal (from rpy2)\n",
      "  Downloading tzlocal-5.2-py3-none-any.whl.metadata (7.8 kB)\n",
      "Requirement already satisfied: packaging in c:\\users\\gabriel.guzman\\appdata\\local\\programs\\python\\python312\\lib\\site-packages (from rpy2) (24.1)\n",
      "Requirement already satisfied: pycparser in c:\\users\\gabriel.guzman\\appdata\\local\\programs\\python\\python312\\lib\\site-packages (from cffi>=1.15.1->rpy2) (2.22)\n",
      "Requirement already satisfied: MarkupSafe>=2.0 in c:\\users\\gabriel.guzman\\appdata\\local\\programs\\python\\python312\\lib\\site-packages (from jinja2->rpy2) (2.1.5)\n",
      "Requirement already satisfied: tzdata in c:\\users\\gabriel.guzman\\appdata\\local\\programs\\python\\python312\\lib\\site-packages (from tzlocal->rpy2) (2024.1)\n",
      "Downloading tzlocal-5.2-py3-none-any.whl (17 kB)\n",
      "Building wheels for collected packages: rpy2\n",
      "  Building wheel for rpy2 (pyproject.toml): started\n",
      "  Building wheel for rpy2 (pyproject.toml): finished with status 'done'\n",
      "  Created wheel for rpy2: filename=rpy2-3.5.16-py3-none-any.whl size=220714 sha256=9abbf034c7ccf6f530aa335d606dcb7f67d5ca283a4b57a178fd0671d5a5edc3\n",
      "  Stored in directory: c:\\users\\gabriel.guzman\\appdata\\local\\pip\\cache\\wheels\\1b\\7a\\26\\1d103e01b538d35ccbc2247a5b0f55fcf98a973d032a1282e5\n",
      "Successfully built rpy2\n",
      "Installing collected packages: tzlocal, rpy2\n",
      "Successfully installed rpy2-3.5.16 tzlocal-5.2\n"
     ]
    }
   ],
   "source": [
    "pip install rpy2"
   ]
  },
  {
   "cell_type": "code",
   "execution_count": 3,
   "id": "f2428749-3fca-480e-ab65-7c99bea9caa9",
   "metadata": {},
   "outputs": [],
   "source": [
    "import os\n",
    "os.environ['R_HOME'] = 'C:/Prgrms/R/R441'\n",
    "import rpy2.robjects as ro"
   ]
  },
  {
   "cell_type": "code",
   "execution_count": 4,
   "id": "bbd9a996-9fa8-4968-9976-36d995b98d75",
   "metadata": {},
   "outputs": [],
   "source": [
    "# Definir un vector en R desde Python\n",
    "r_code = \"\"\"\n",
    "  numbers <- c(5, 10, 15, 20, 25)\n",
    "  mean_value <- mean(numbers)\n",
    "  sd_value <- sd(numbers)\n",
    "  list(mean=mean_value, sd=sd_value)\n",
    "\"\"\"\n",
    "# Ejecutar el código de R\n",
    "result = ro.r(r_code)"
   ]
  },
  {
   "cell_type": "code",
   "execution_count": 5,
   "id": "c8686405-9c6a-400a-bab3-f4732ef910d8",
   "metadata": {},
   "outputs": [
    {
     "name": "stdout",
     "output_type": "stream",
     "text": [
      "Media: [1] 15\n",
      " \n",
      "Desviación Estándar: [1] 7.905694\n",
      "\n"
     ]
    }
   ],
   "source": [
    "# Imprimir el resultado en Python\n",
    "print(f\"Media: {result[0]} \\nDesviación Estándar: {result[1]}\")"
   ]
  },
  {
   "cell_type": "markdown",
   "id": "9e30a3a7-c0f6-41ea-813e-4d175bbd08e1",
   "metadata": {},
   "source": [
    "## Ejercicio 2: Visualización de datos con ggplot2 en R desde Python\n",
    "En este ejercicio, crearás un gráfico básico utilizando la librería ggplot2 en R y lo generarás desde Python."
   ]
  },
  {
   "cell_type": "code",
   "execution_count": 8,
   "id": "5fddf958-2323-41e1-8535-0df089323afa",
   "metadata": {},
   "outputs": [],
   "source": [
    "# Importar los módulos necesarios\n",
    "import rpy2.robjects as ro\n",
    "from rpy2.robjects.packages import importr\n",
    "from rpy2.robjects.lib import grdevices\n",
    "from IPython.display import Image\n",
    "\n",
    "# Importar ggplot2 en R\n",
    "importr('ggplot2')\n",
    "\n",
    "# Abrir el dispositivo gráfico para guardar el gráfico como PNG\n",
    "grdevices.png(file=\"plot.png\", width=512, height=512, res=100)\n",
    "\n",
    "# Definir código R para crear un gráfico\n",
    "r_code = \"\"\"\n",
    "  library(ggplot2)\n",
    "  \n",
    "  # Crear un DataFrame simple\n",
    "  df <- data.frame(x = c(1, 2, 3, 4, 5), y = c(2, 4, 6, 8, 10))\n",
    "  \n",
    "  # Crear el gráfico\n",
    "  plot <- ggplot(df, aes(x=x, y=y)) +\n",
    "          geom_line(color=\"blue\", linewidth=1.5) +\n",
    "          geom_point(color=\"red\", size=3) +\n",
    "          ggtitle(\"Gráfico Lineal en R\") +\n",
    "          xlab(\"Eje X\") +\n",
    "          ylab(\"Eje Y\") +\n",
    "          theme_minimal()\n",
    "  \n",
    "  # Devolver el gráfico\n",
    "  print(plot)\n",
    "\"\"\"\n",
    "\n",
    "# Ejecutar el código de R para crear el gráfico\n",
    "ro.r(r_code)\n",
    "\n",
    "# Verificar si algún dispositivo gráfico está abierto antes de cerrarlo\n",
    "if grdevices.dev_cur()[0] != 1:  # Verifica si el dispositivo no es el \"null device\"\n",
    "    grdevices.dev_off()"
   ]
  },
  {
   "cell_type": "code",
   "execution_count": 5,
   "id": "1f9dec19-b931-4fae-b652-3c56bb98fbbf",
   "metadata": {},
   "outputs": [
    {
     "data": {
      "image/png": "[encoded data removed]",
      "text/plain": [
       "<IPython.core.display.Image object>"
      ]
     },
     "execution_count": 5,
     "metadata": {},
     "output_type": "execute_result"
    }
   ],
   "source": [
    "# Mostrar el gráfico en el cuaderno Jupyter\n",
    "Image(filename=\"plot.png\")"
   ]
  },
  {
   "cell_type": "markdown",
   "id": "7d634a82-ec7c-4672-b482-3f94359649b8",
   "metadata": {},
   "source": [
    "## Ejercicio 3: Modelo lineal simple en R desde Python\n",
    "En este ejercicio, vas a entrenar un modelo lineal simple en R, usando una función de regresión y ejecutándolo desde Python."
   ]
  },
  {
   "cell_type": "code",
   "execution_count": 9,
   "id": "96c56716-6632-4ab0-b207-09c4196001fd",
   "metadata": {},
   "outputs": [],
   "source": [
    "import rpy2.robjects as ro\n",
    "\n",
    "# Código de R para un modelo de regresión lineal\n",
    "r_code = \"\"\"\n",
    "  data <- data.frame(\n",
    "    x = c(1, 2, 3, 4, 5),\n",
    "    y = c(2, 3, 5, 7, 11)\n",
    "  )\n",
    "  model <- lm(y ~ x, data = data)\n",
    "  summary(model)\n",
    "\"\"\"\n",
    "\n",
    "# Ejecutar el código de R\n",
    "result = ro.r(r_code)"
   ]
  },
  {
   "cell_type": "code",
   "execution_count": 10,
   "id": "e889e498-cb92-42be-9e58-38ebbc258071",
   "metadata": {},
   "outputs": [
    {
     "name": "stdout",
     "output_type": "stream",
     "text": [
      "\n",
      "Call:\n",
      "lm(formula = y ~ x, data = data)\n",
      "\n",
      "Residuals:\n",
      "   1    2    3    4    5 \n",
      " 0.8 -0.4 -0.6 -0.8  1.0 \n",
      "\n",
      "Coefficients:\n",
      "            Estimate Std. Error t value Pr(>|t|)   \n",
      "(Intercept)  -1.0000     1.0132  -0.987  0.39644   \n",
      "x             2.2000     0.3055   7.201  0.00552 **\n",
      "---\n",
      "Signif. codes:  0 '***' 0.001 '**' 0.01 '*' 0.05 '.' 0.1 ' ' 1\n",
      "\n",
      "Residual standard error: 0.9661 on 3 degrees of freedom\n",
      "Multiple R-squared:  0.9453,\tAdjusted R-squared:  0.9271 \n",
      "F-statistic: 51.86 on 1 and 3 DF,  p-value: 0.00552\n",
      "\n",
      "\n"
     ]
    }
   ],
   "source": [
    "# Mostrar el resultado del modelo en Python\n",
    "print(result)"
   ]
  }
 ],
 "metadata": {
  "kernelspec": {
   "display_name": "Python 3 (ipykernel)",
   "language": "python",
   "name": "python3"
  },
  "language_info": {
   "codemirror_mode": {
    "name": "ipython",
    "version": 3
   },
   "file_extension": ".py",
   "mimetype": "text/x-python",
   "name": "python",
   "nbconvert_exporter": "python",
   "pygments_lexer": "ipython3",
   "version": "3.12.5"
  }
 },
 "nbformat": 4,
 "nbformat_minor": 5
}
