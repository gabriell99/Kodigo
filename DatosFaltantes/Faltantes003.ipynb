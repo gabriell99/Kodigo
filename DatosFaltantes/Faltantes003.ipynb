{
 "cells": [
  {
   "cell_type": "code",
   "execution_count": 1,
   "id": "f7f39ca0",
   "metadata": {},
   "outputs": [
    {
     "name": "stdout",
     "output_type": "stream",
     "text": [
      "DataFrame original:\n",
      "       Name   Age   Salary Gender           City Department\n",
      "0    Alice  25.0  50000.0      F       New York         HR\n",
      "1      Bob   NaN  60000.0      M            NaN         IT\n",
      "2  Charlie  30.0      NaN    NaN  San Francisco        NaN\n",
      "3    David   NaN  80000.0      M    Los Angeles    Finance\n",
      "4      Eva  40.0      NaN      F            NaN  Marketing\n",
      "5    Frank  35.0  55000.0    NaN        Houston         IT\n",
      "6    Grace   NaN  70000.0      F            NaN         HR\n",
      "7   Hannah  29.0      NaN    NaN        Seattle        NaN\n",
      "8      Ian  50.0      NaN      M          Miami    Finance\n",
      "9     Jack   NaN  90000.0      F         Boston        NaN\n",
      "\n",
      "DataFrame sin filas con valores faltantes en la columna 'Age':\n",
      "       Name   Age   Salary Gender           City Department\n",
      "0    Alice  25.0  50000.0      F       New York         HR\n",
      "2  Charlie  30.0      NaN    NaN  San Francisco        NaN\n",
      "4      Eva  40.0      NaN      F            NaN  Marketing\n",
      "5    Frank  35.0  55000.0    NaN        Houston         IT\n",
      "7   Hannah  29.0      NaN    NaN        Seattle        NaN\n",
      "8      Ian  50.0      NaN      M          Miami    Finance\n"
     ]
    }
   ],
   "source": [
    "import pandas as pd\n",
    "import numpy as np\n",
    "\n",
    "# Crear un DataFrame más grande con más valores faltantes\n",
    "np.random.seed(42)\n",
    "data = {\n",
    "    'Name': ['Alice', 'Bob', 'Charlie', 'David', 'Eva', 'Frank', 'Grace', 'Hannah', 'Ian', 'Jack'],\n",
    "    'Age': [25, np.nan, 30, np.nan, 40, 35, np.nan, 29, 50, np.nan],\n",
    "    'Salary': [50000, 60000, np.nan, 80000, np.nan, 55000, 70000, np.nan, np.nan, 90000],\n",
    "    'Gender': ['F', 'M', np.nan, 'M', 'F', np.nan, 'F', np.nan, 'M', 'F'],\n",
    "    'City': ['New York', np.nan, 'San Francisco', 'Los Angeles', np.nan, 'Houston', np.nan, 'Seattle', 'Miami', 'Boston'],\n",
    "    'Department': ['HR', 'IT', np.nan, 'Finance', 'Marketing', 'IT', 'HR', np.nan, 'Finance', np.nan]\n",
    "}\n",
    "\n",
    "df = pd.DataFrame(data)\n",
    "\n",
    "# Mostrar el DataFrame original\n",
    "print(\"DataFrame original:\\n\", df)\n",
    "\n",
    "# Remover solo las filas donde la columna 'Age' tenga valores faltantes\n",
    "df_cleaned_age = df.dropna(subset=['Age'])\n",
    "\n",
    "# Mostrar el DataFrame después de remover las filas donde la columna 'Age' tiene valores faltantes\n",
    "print(\"\\nDataFrame sin filas con valores faltantes en la columna 'Age':\\n\", df_cleaned_age)\n"
   ]
  }
 ],
 "metadata": {
  "kernelspec": {
   "display_name": "Python 3 (ipykernel)",
   "language": "python",
   "name": "python3"
  },
  "language_info": {
   "codemirror_mode": {
    "name": "ipython",
    "version": 3
   },
   "file_extension": ".py",
   "mimetype": "text/x-python",
   "name": "python",
   "nbconvert_exporter": "python",
   "pygments_lexer": "ipython3",
   "version": "3.10.4"
  }
 },
 "nbformat": 4,
 "nbformat_minor": 5
}
