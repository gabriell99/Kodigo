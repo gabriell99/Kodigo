{
 "cells": [
  {
   "cell_type": "code",
   "execution_count": 1,
   "id": "a055aafd",
   "metadata": {},
   "outputs": [
    {
     "name": "stdout",
     "output_type": "stream",
     "text": [
      "DataFrame original:\n",
      "       Name   Age   Salary\n",
      "0    Alice  25.0  50000.0\n",
      "1      Bob   NaN  60000.0\n",
      "2  Charlie  30.0      NaN\n",
      "3    David  35.0  80000.0\n",
      "4      NaN  40.0  90000.0\n",
      "\n",
      "DataFrame sin filas con valores faltantes:\n",
      "     Name   Age   Salary\n",
      "0  Alice  25.0  50000.0\n",
      "3  David  35.0  80000.0\n",
      "\n",
      "DataFrame sin columnas con valores faltantes:\n",
      " Empty DataFrame\n",
      "Columns: []\n",
      "Index: [0, 1, 2, 3, 4]\n"
     ]
    }
   ],
   "source": [
    "import pandas as pd\n",
    "import numpy as np\n",
    "\n",
    "# Crear un DataFrame de ejemplo con valores faltantes\n",
    "data = {\n",
    "    'Name': ['Alice', 'Bob', 'Charlie', 'David', np.nan],\n",
    "    'Age': [25, np.nan, 30, 35, 40],\n",
    "    'Salary': [50000, 60000, np.nan, 80000, 90000]\n",
    "}\n",
    "\n",
    "df = pd.DataFrame(data)\n",
    "\n",
    "# Mostrar el DataFrame original\n",
    "print(\"DataFrame original:\\n\", df)\n",
    "\n",
    "# Remover filas con cualquier valor faltante\n",
    "df_cleaned_rows = df.dropna()\n",
    "\n",
    "# Mostrar el DataFrame después de remover las filas con valores faltantes\n",
    "print(\"\\nDataFrame sin filas con valores faltantes:\\n\", df_cleaned_rows)\n",
    "\n",
    "# Remover columnas que tengan algún valor faltante\n",
    "df_cleaned_cols = df.dropna(axis=1)\n",
    "\n",
    "# Mostrar el DataFrame después de remover las columnas con valores faltantes\n",
    "print(\"\\nDataFrame sin columnas con valores faltantes:\\n\", df_cleaned_cols)\n"
   ]
  }
 ],
 "metadata": {
  "kernelspec": {
   "display_name": "Python 3 (ipykernel)",
   "language": "python",
   "name": "python3"
  },
  "language_info": {
   "codemirror_mode": {
    "name": "ipython",
    "version": 3
   },
   "file_extension": ".py",
   "mimetype": "text/x-python",
   "name": "python",
   "nbconvert_exporter": "python",
   "pygments_lexer": "ipython3",
   "version": "3.12.5"
  }
 },
 "nbformat": 4,
 "nbformat_minor": 5
}
