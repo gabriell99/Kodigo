{
 "cells": [
  {
   "cell_type": "code",
   "execution_count": 2,
   "id": "d9b30733",
   "metadata": {},
   "outputs": [
    {
     "name": "stdout",
     "output_type": "stream",
     "text": [
      "DataFrame original:\n",
      "       Name   Age   Salary Gender           City Department\n",
      "0    Alice  25.0  50000.0      F       New York         HR\n",
      "1      Bob   NaN  60000.0      M            NaN         IT\n",
      "2  Charlie  30.0      NaN    NaN  San Francisco        NaN\n",
      "3    David   NaN  80000.0      M    Los Angeles    Finance\n",
      "4      Eva  40.0      NaN      F            NaN  Marketing\n",
      "5    Frank  35.0  55000.0    NaN        Houston         IT\n",
      "6    Grace   NaN  70000.0      F            NaN         HR\n",
      "7   Hannah  29.0      NaN    NaN        Seattle        NaN\n",
      "8      Ian  50.0      NaN      M          Miami    Finance\n",
      "9     Jack   NaN  90000.0      F         Boston        NaN\n",
      "\n",
      "DataFrame con valores faltantes reemplazados por el valor de la fila anterior (ffill):\n",
      "       Name   Age   Salary Gender           City Department\n",
      "0    Alice  25.0  50000.0      F       New York         HR\n",
      "1      Bob  25.0  60000.0      M       New York         IT\n",
      "2  Charlie  30.0  60000.0      M  San Francisco         IT\n",
      "3    David  30.0  80000.0      M    Los Angeles    Finance\n",
      "4      Eva  40.0  80000.0      F    Los Angeles  Marketing\n",
      "5    Frank  35.0  55000.0      F        Houston         IT\n",
      "6    Grace  35.0  70000.0      F        Houston         HR\n",
      "7   Hannah  29.0  70000.0      F        Seattle         HR\n",
      "8      Ian  50.0  70000.0      M          Miami    Finance\n",
      "9     Jack  50.0  90000.0      F         Boston    Finance\n"
     ]
    }
   ],
   "source": [
    "import pandas as pd\n",
    "import numpy as np\n",
    "\n",
    "# Crear un DataFrame más grande con más valores faltantes\n",
    "np.random.seed(42)\n",
    "data = {\n",
    "    'Name': ['Alice', 'Bob', 'Charlie', 'David', 'Eva', 'Frank', 'Grace', 'Hannah', 'Ian', 'Jack'],\n",
    "    'Age': [25, np.nan, 30, np.nan, 40, 35, np.nan, 29, 50, np.nan],\n",
    "    'Salary': [50000, 60000, np.nan, 80000, np.nan, 55000, 70000, np.nan, np.nan, 90000],\n",
    "    'Gender': ['F', 'M', np.nan, 'M', 'F', np.nan, 'F', np.nan, 'M', 'F'],\n",
    "    'City': ['New York', np.nan, 'San Francisco', 'Los Angeles', np.nan, 'Houston', np.nan, 'Seattle', 'Miami', 'Boston'],\n",
    "    'Department': ['HR', 'IT', np.nan, 'Finance', 'Marketing', 'IT', 'HR', np.nan, 'Finance', np.nan]\n",
    "}\n",
    "\n",
    "df = pd.DataFrame(data)\n",
    "\n",
    "# Mostrar el DataFrame original\n",
    "print(\"DataFrame original:\\n\", df)\n",
    "\n",
    "# Reemplazar los valores faltantes con el valor de la fila anterior (forward fill) utilizando ffill() directamente\n",
    "df.ffill(inplace=True)\n",
    "\n",
    "# Mostrar el DataFrame después de reemplazar los valores faltantes con el valor de la fila anterior\n",
    "print(\"\\nDataFrame con valores faltantes reemplazados por el valor de la fila anterior (ffill):\\n\", df)\n"
   ]
  }
 ],
 "metadata": {
  "kernelspec": {
   "display_name": "Python 3 (ipykernel)",
   "language": "python",
   "name": "python3"
  },
  "language_info": {
   "codemirror_mode": {
    "name": "ipython",
    "version": 3
   },
   "file_extension": ".py",
   "mimetype": "text/x-python",
   "name": "python",
   "nbconvert_exporter": "python",
   "pygments_lexer": "ipython3",
   "version": "3.12.5"
  }
 },
 "nbformat": 4,
 "nbformat_minor": 5
}
