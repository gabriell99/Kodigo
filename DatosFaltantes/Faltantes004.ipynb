{
 "cells": [
  {
   "cell_type": "code",
   "execution_count": 1,
   "id": "f4149fe7",
   "metadata": {},
   "outputs": [
    {
     "name": "stdout",
     "output_type": "stream",
     "text": [
      "Gabriel Guzmán - seed(78)\n",
      "\n",
      "DataFrame original:\n",
      "       Name   Age   Salary Gender           City Department\n",
      "0    Alice  25.0  50000.0      F       New York         HR\n",
      "1      Bob   NaN  60000.0      M            NaN         IT\n",
      "2  Charlie  30.0      NaN    NaN  San Francisco        NaN\n",
      "3    David   NaN  80000.0      M    Los Angeles    Finance\n",
      "4      Eva  40.0      NaN      F            NaN  Marketing\n",
      "5    Frank  35.0  55000.0    NaN        Houston         IT\n",
      "6    Grace   NaN  70000.0      F            NaN         HR\n",
      "7   Hannah  29.0      NaN    NaN        Seattle        NaN\n",
      "8      Ian  50.0      NaN      M          Miami    Finance\n",
      "9     Jack   NaN  90000.0      F         Boston        NaN\n",
      "\n",
      "DataFrame con valores faltantes imputados:\n",
      "       Name        Age   Salary Gender           City Department\n",
      "0    Alice  25.000000  50000.0      F       New York         HR\n",
      "1      Bob  34.833333  60000.0      M              U         IT\n",
      "2  Charlie  30.000000  67500.0      U  San Francisco          U\n",
      "3    David  34.833333  80000.0      M    Los Angeles    Finance\n",
      "4      Eva  40.000000  67500.0      F              U  Marketing\n",
      "5    Frank  35.000000  55000.0      U        Houston         IT\n",
      "6    Grace  34.833333  70000.0      F              U         HR\n",
      "7   Hannah  29.000000  67500.0      U        Seattle          U\n",
      "8      Ian  50.000000  67500.0      M          Miami    Finance\n",
      "9     Jack  34.833333  90000.0      F         Boston          U\n"
     ]
    }
   ],
   "source": [
    "import pandas as pd\n",
    "import numpy as np\n",
    "\n",
    "# Crear un DataFrame más grande con más valores faltantes\n",
    "np.random.seed(78)\n",
    "data = {\n",
    "    'Name': ['Alice', 'Bob', 'Charlie', 'David', 'Eva', 'Frank', 'Grace', 'Hannah', 'Ian', 'Jack'],\n",
    "    'Age': [25, np.nan, 30, np.nan, 40, 35, np.nan, 29, 50, np.nan],\n",
    "    'Salary': [50000, 60000, np.nan, 80000, np.nan, 55000, 70000, np.nan, np.nan, 90000],\n",
    "    'Gender': ['F', 'M', np.nan, 'M', 'F', np.nan, 'F', np.nan, 'M', 'F'],\n",
    "    'City': ['New York', np.nan, 'San Francisco', 'Los Angeles', np.nan, 'Houston', np.nan, 'Seattle', 'Miami', 'Boston'],\n",
    "    'Department': ['HR', 'IT', np.nan, 'Finance', 'Marketing', 'IT', 'HR', np.nan, 'Finance', np.nan]\n",
    "}\n",
    "\n",
    "df = pd.DataFrame(data)\n",
    "\n",
    "# Nombre Colaborador\n",
    "print(\"Gabriel Guzmán - seed(78)\\n\")\n",
    "\n",
    "\n",
    "# Mostrar el DataFrame original\n",
    "print(\"DataFrame original:\\n\", df)\n",
    "\n",
    "# Calcular el promedio de 'Age' y 'Salary' ignorando los valores faltantes\n",
    "age_mean = df['Age'].mean()\n",
    "salary_mean = df['Salary'].mean()\n",
    "\n",
    "# Imputar valores faltantes en 'Age' con el promedio\n",
    "df['Age'] = df['Age'].fillna(age_mean)\n",
    "\n",
    "# Imputar valores faltantes en 'Salary' con el promedio\n",
    "df['Salary'] = df['Salary'].fillna(salary_mean)\n",
    "\n",
    "# Reemplazar valores faltantes en 'Gender', 'City' y 'Department' con 'U' (Unknown)\n",
    "df['Gender'] = df['Gender'].fillna('U')\n",
    "df['City'] = df['City'].fillna('U')\n",
    "df['Department'] = df['Department'].fillna('U')\n",
    "\n",
    "# Mostrar el DataFrame después de las imputaciones\n",
    "print(\"\\nDataFrame con valores faltantes imputados:\\n\", df)\n"
   ]
  }
 ],
 "metadata": {
  "kernelspec": {
   "display_name": "Python 3 (ipykernel)",
   "language": "python",
   "name": "python3"
  },
  "language_info": {
   "codemirror_mode": {
    "name": "ipython",
    "version": 3
   },
   "file_extension": ".py",
   "mimetype": "text/x-python",
   "name": "python",
   "nbconvert_exporter": "python",
   "pygments_lexer": "ipython3",
   "version": "3.12.5"
  }
 },
 "nbformat": 4,
 "nbformat_minor": 5
}
