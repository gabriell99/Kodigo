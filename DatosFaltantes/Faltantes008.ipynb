{
 "cells": [
  {
   "cell_type": "code",
   "execution_count": 1,
   "id": "4438dacb",
   "metadata": {},
   "outputs": [
    {
     "name": "stdout",
     "output_type": "stream",
     "text": [
      "Gabriel Guzmán - seed(128):\n",
      "\n",
      "DataFrame original (con valores faltantes):\n",
      "     Age   Salary\n",
      "0  25.0  50000.0\n",
      "1   NaN  60000.0\n",
      "2  30.0      NaN\n",
      "3   NaN  80000.0\n",
      "4  40.0      NaN\n",
      "5  35.0  55000.0\n",
      "6   NaN  70000.0\n",
      "7  29.0      NaN\n",
      "8  50.0      NaN\n",
      "9   NaN  90000.0\n",
      "\n",
      "DataFrame con valores imputados usando KNNImputer:\n",
      "     Age   Salary\n",
      "0  25.0  50000.0\n",
      "1  30.0  60000.0\n",
      "2  30.0  52500.0\n",
      "3  30.0  80000.0\n",
      "4  40.0  52500.0\n",
      "5  35.0  55000.0\n",
      "6  30.0  70000.0\n",
      "7  29.0  52500.0\n",
      "8  50.0  52500.0\n",
      "9  30.0  90000.0\n"
     ]
    }
   ],
   "source": [
    "import pandas as pd\n",
    "import numpy as np\n",
    "from sklearn.impute import KNNImputer\n",
    "\n",
    "# Crear un DataFrame más grande con más valores faltantes\n",
    "np.random.seed(128)\n",
    "data = {\n",
    "    'Name': ['Alice', 'Bob', 'Charlie', 'David', 'Eva', 'Frank', 'Grace', 'Hannah', 'Ian', 'Jack'],\n",
    "    'Age': [25, np.nan, 30, np.nan, 40, 35, np.nan, 29, 50, np.nan],\n",
    "    'Salary': [50000, 60000, np.nan, 80000, np.nan, 55000, 70000, np.nan, np.nan, 90000],\n",
    "    'Gender': ['F', 'M', np.nan, 'M', 'F', np.nan, 'F', np.nan, 'M', 'F'],\n",
    "    'City': ['New York', np.nan, 'San Francisco', 'Los Angeles', np.nan, 'Houston', np.nan, 'Seattle', 'Miami', 'Boston'],\n",
    "    'Department': ['HR', 'IT', np.nan, 'Finance', 'Marketing', 'IT', 'HR', np.nan, 'Finance', np.nan]\n",
    "}\n",
    "\n",
    "print(\"Gabriel Guzmán - seed(128):\\n\")\n",
    "\n",
    "df = pd.DataFrame(data)\n",
    "\n",
    "# Para usar KNNImputer necesitamos trabajar solo con columnas numéricas, por lo tanto excluimos 'Gender', 'City' y 'Department' para este ejemplo\n",
    "df_numeric = df[['Age', 'Salary']]\n",
    "\n",
    "# Inicializar el KNNImputer con k=2 (dos vecinos más cercanos)\n",
    "imputer = KNNImputer(n_neighbors=2)\n",
    "\n",
    "# Aplicar KNNImputer y transformar el DataFrame numérico\n",
    "df_imputed = pd.DataFrame(imputer.fit_transform(df_numeric), columns=df_numeric.columns)\n",
    "\n",
    "# Mostrar el DataFrame original\n",
    "print(\"DataFrame original (con valores faltantes):\\n\", df_numeric)\n",
    "\n",
    "# Mostrar el DataFrame después de la imputación con KNNImputer\n",
    "print(\"\\nDataFrame con valores imputados usando KNNImputer:\\n\", df_imputed)\n"
   ]
  }
 ],
 "metadata": {
  "kernelspec": {
   "display_name": "Python 3 (ipykernel)",
   "language": "python",
   "name": "python3"
  },
  "language_info": {
   "codemirror_mode": {
    "name": "ipython",
    "version": 3
   },
   "file_extension": ".py",
   "mimetype": "text/x-python",
   "name": "python",
   "nbconvert_exporter": "python",
   "pygments_lexer": "ipython3",
   "version": "3.12.5"
  }
 },
 "nbformat": 4,
 "nbformat_minor": 5
}
